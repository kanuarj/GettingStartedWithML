{
 "cells": [
  {
   "cell_type": "markdown",
   "id": "serious-merchant",
   "metadata": {},
   "source": [
    "**Hyperparameter Tuning** ~ It is a process of tweaking your ML Algorithm to give the best results."
   ]
  },
  {
   "cell_type": "markdown",
   "id": "shared-wildlife",
   "metadata": {},
   "source": [
    "**Grid Search CV** ~ Is exhaustive search method of the parameters"
   ]
  },
  {
   "cell_type": "code",
   "execution_count": 1,
   "id": "laughing-howard",
   "metadata": {},
   "outputs": [],
   "source": [
    "from sklearn.datasets import load_breast_cancer\n",
    "import pandas as pd\n",
    "data = load_breast_cancer()\n",
    "X = pd.DataFrame(data.data, columns = data.feature_names)\n",
    "y = pd.Series(data = data.target, name = 'Target')"
   ]
  },
  {
   "cell_type": "code",
   "execution_count": 2,
   "id": "dietary-preview",
   "metadata": {},
   "outputs": [],
   "source": [
    "from sklearn.model_selection import train_test_split\n",
    "X_train, X_test, y_train, y_test = train_test_split(X, y, test_size = 0.3)"
   ]
  },
  {
   "cell_type": "code",
   "execution_count": 5,
   "id": "several-rolling",
   "metadata": {},
   "outputs": [],
   "source": [
    "from sklearn.neighbors import KNeighborsClassifier\n",
    "knn = KNeighborsClassifier()"
   ]
  },
  {
   "cell_type": "code",
   "execution_count": 6,
   "id": "sunrise-colleague",
   "metadata": {},
   "outputs": [
    {
     "data": {
      "text/plain": [
       "0.9447236180904522"
      ]
     },
     "execution_count": 6,
     "metadata": {},
     "output_type": "execute_result"
    }
   ],
   "source": [
    "knn.fit(X_train, y_train)\n",
    "knn.score(X_train, y_train)"
   ]
  },
  {
   "cell_type": "code",
   "execution_count": 19,
   "id": "deluxe-associate",
   "metadata": {},
   "outputs": [],
   "source": [
    "params = {\n",
    "    \"knn\":{\n",
    "        \"n_neighbors\":[3,5,7,9,11],\n",
    "        \"metric\":['euclidean', 'manhattan', 'minkowski']\n",
    "    },\n",
    "    \"logistic_regression\":{\n",
    "        \"C\":[1.0, 2.0, 3.0, 4.0],\n",
    "        \"max_iter\":[100,200,300,400]\n",
    "    }\n",
    "}"
   ]
  },
  {
   "cell_type": "code",
   "execution_count": 20,
   "id": "engaged-literature",
   "metadata": {},
   "outputs": [],
   "source": [
    "from sklearn.model_selection import GridSearchCV\n",
    "grid = GridSearchCV(knn, param_grid = params['knn'], cv = 5, verbose = 3, scoring = 'accuracy')"
   ]
  },
  {
   "cell_type": "code",
   "execution_count": 21,
   "id": "brutal-uruguay",
   "metadata": {},
   "outputs": [
    {
     "name": "stdout",
     "output_type": "stream",
     "text": [
      "Fitting 5 folds for each of 15 candidates, totalling 75 fits\n",
      "[CV] metric=euclidean, n_neighbors=3 .................................\n",
      "[CV] ..... metric=euclidean, n_neighbors=3, score=0.912, total=   0.0s\n",
      "[CV] metric=euclidean, n_neighbors=3 .................................\n",
      "[CV] ..... metric=euclidean, n_neighbors=3, score=0.938, total=   0.0s\n",
      "[CV] metric=euclidean, n_neighbors=3 .................................\n",
      "[CV] ..... metric=euclidean, n_neighbors=3, score=0.950, total=   0.0s\n",
      "[CV] metric=euclidean, n_neighbors=3 .................................\n",
      "[CV] ..... metric=euclidean, n_neighbors=3, score=0.899, total=   0.0s\n",
      "[CV] metric=euclidean, n_neighbors=3 .................................\n",
      "[CV] ..... metric=euclidean, n_neighbors=3, score=0.911, total=   0.0s\n",
      "[CV] metric=euclidean, n_neighbors=5 .................................\n",
      "[CV] ..... metric=euclidean, n_neighbors=5, score=0.925, total=   0.0s\n",
      "[CV] metric=euclidean, n_neighbors=5 .................................\n",
      "[CV] ..... metric=euclidean, n_neighbors=5, score=0.950, total=   0.0s\n",
      "[CV] metric=euclidean, n_neighbors=5 .................................\n",
      "[CV] ..... metric=euclidean, n_neighbors=5, score=0.963, total=   0.0s\n",
      "[CV] metric=euclidean, n_neighbors=5 .................................\n",
      "[CV] ..... metric=euclidean, n_neighbors=5, score=0.911, total=   0.0s\n",
      "[CV] metric=euclidean, n_neighbors=5 .................................\n",
      "[CV] ..... metric=euclidean, n_neighbors=5, score=0.937, total=   0.0s\n",
      "[CV] metric=euclidean, n_neighbors=7 .................................\n",
      "[CV] ..... metric=euclidean, n_neighbors=7, score=0.925, total=   0.0s\n",
      "[CV] metric=euclidean, n_neighbors=7 .................................\n",
      "[CV] ..... metric=euclidean, n_neighbors=7, score=0.925, total=   0.0s\n",
      "[CV] metric=euclidean, n_neighbors=7 .................................\n",
      "[CV] ..... metric=euclidean, n_neighbors=7, score=0.950, total=   0.0s\n",
      "[CV] metric=euclidean, n_neighbors=7 .................................\n",
      "[CV] ..... metric=euclidean, n_neighbors=7, score=0.924, total=   0.0s\n",
      "[CV] metric=euclidean, n_neighbors=7 .................................\n",
      "[CV] ..... metric=euclidean, n_neighbors=7, score=0.949, total=   0.0s\n",
      "[CV] metric=euclidean, n_neighbors=9 .................................\n",
      "[CV] ..... metric=euclidean, n_neighbors=9, score=0.912, total=   0.0s\n",
      "[CV] metric=euclidean, n_neighbors=9 .................................\n",
      "[CV] ..... metric=euclidean, n_neighbors=9, score=0.925, total=   0.0s\n",
      "[CV] metric=euclidean, n_neighbors=9 .................................\n",
      "[CV] ..... metric=euclidean, n_neighbors=9, score=0.963, total=   0.0s\n",
      "[CV] metric=euclidean, n_neighbors=9 .................................\n",
      "[CV] ..... metric=euclidean, n_neighbors=9, score=0.924, total=   0.0s\n",
      "[CV] metric=euclidean, n_neighbors=9 .................................\n",
      "[CV] ..... metric=euclidean, n_neighbors=9, score=0.937, total=   0.0s\n",
      "[CV] metric=euclidean, n_neighbors=11 ................................\n",
      "[CV] .... metric=euclidean, n_neighbors=11, score=0.912, total=   0.0s\n",
      "[CV] metric=euclidean, n_neighbors=11 ................................\n",
      "[CV] .... metric=euclidean, n_neighbors=11, score=0.925, total=   0.0s\n",
      "[CV] metric=euclidean, n_neighbors=11 ................................\n",
      "[CV] .... metric=euclidean, n_neighbors=11, score=0.950, total=   0.0s\n",
      "[CV] metric=euclidean, n_neighbors=11 ................................\n",
      "[CV] .... metric=euclidean, n_neighbors=11, score=0.924, total=   0.0s\n",
      "[CV] metric=euclidean, n_neighbors=11 ................................\n",
      "[CV] .... metric=euclidean, n_neighbors=11, score=0.937, total=   0.0s\n",
      "[CV] metric=manhattan, n_neighbors=3 .................................\n",
      "[CV] ..... metric=manhattan, n_neighbors=3, score=0.938, total=   0.0s\n",
      "[CV] metric=manhattan, n_neighbors=3 .................................\n",
      "[CV] ..... metric=manhattan, n_neighbors=3, score=0.950, total=   0.0s\n",
      "[CV] metric=manhattan, n_neighbors=3 .................................\n",
      "[CV] ..... metric=manhattan, n_neighbors=3, score=0.950, total=   0.0s\n",
      "[CV] metric=manhattan, n_neighbors=3 .................................\n",
      "[CV] ..... metric=manhattan, n_neighbors=3, score=0.886, total=   0.0s\n",
      "[CV] metric=manhattan, n_neighbors=3 .................................\n",
      "[CV] ..... metric=manhattan, n_neighbors=3, score=0.924, total=   0.0s\n",
      "[CV] metric=manhattan, n_neighbors=5 .................................\n",
      "[CV] ..... metric=manhattan, n_neighbors=5, score=0.912, total=   0.0s\n",
      "[CV] metric=manhattan, n_neighbors=5 .................................\n",
      "[CV] ..... metric=manhattan, n_neighbors=5, score=0.950, total=   0.0s\n",
      "[CV] metric=manhattan, n_neighbors=5 .................................\n",
      "[CV] ..... metric=manhattan, n_neighbors=5, score=0.975, total=   0.0s\n",
      "[CV] metric=manhattan, n_neighbors=5 .................................\n",
      "[CV] ..... metric=manhattan, n_neighbors=5, score=0.899, total=   0.0s\n",
      "[CV] metric=manhattan, n_neighbors=5 .................................\n",
      "[CV] ..... metric=manhattan, n_neighbors=5, score=0.937, total=   0.0s\n",
      "[CV] metric=manhattan, n_neighbors=7 .................................\n",
      "[CV] ..... metric=manhattan, n_neighbors=7, score=0.900, total=   0.0s\n",
      "[CV] metric=manhattan, n_neighbors=7 .................................\n",
      "[CV] ..... metric=manhattan, n_neighbors=7, score=0.950, total=   0.0s\n",
      "[CV] metric=manhattan, n_neighbors=7 .................................\n",
      "[CV] ..... metric=manhattan, n_neighbors=7, score=0.975, total=   0.0s"
     ]
    },
    {
     "name": "stderr",
     "output_type": "stream",
     "text": [
      "[Parallel(n_jobs=1)]: Using backend SequentialBackend with 1 concurrent workers.\n",
      "[Parallel(n_jobs=1)]: Done   1 out of   1 | elapsed:    0.0s remaining:    0.0s\n",
      "[Parallel(n_jobs=1)]: Done   2 out of   2 | elapsed:    0.0s remaining:    0.0s\n"
     ]
    },
    {
     "name": "stdout",
     "output_type": "stream",
     "text": [
      "\n",
      "[CV] metric=manhattan, n_neighbors=7 .................................\n",
      "[CV] ..... metric=manhattan, n_neighbors=7, score=0.924, total=   0.0s\n",
      "[CV] metric=manhattan, n_neighbors=7 .................................\n",
      "[CV] ..... metric=manhattan, n_neighbors=7, score=0.949, total=   0.0s\n",
      "[CV] metric=manhattan, n_neighbors=9 .................................\n",
      "[CV] ..... metric=manhattan, n_neighbors=9, score=0.900, total=   0.0s\n",
      "[CV] metric=manhattan, n_neighbors=9 .................................\n",
      "[CV] ..... metric=manhattan, n_neighbors=9, score=0.950, total=   0.0s\n",
      "[CV] metric=manhattan, n_neighbors=9 .................................\n",
      "[CV] ..... metric=manhattan, n_neighbors=9, score=0.975, total=   0.0s\n",
      "[CV] metric=manhattan, n_neighbors=9 .................................\n",
      "[CV] ..... metric=manhattan, n_neighbors=9, score=0.924, total=   0.0s\n",
      "[CV] metric=manhattan, n_neighbors=9 .................................\n",
      "[CV] ..... metric=manhattan, n_neighbors=9, score=0.949, total=   0.0s\n",
      "[CV] metric=manhattan, n_neighbors=11 ................................\n",
      "[CV] .... metric=manhattan, n_neighbors=11, score=0.900, total=   0.0s\n",
      "[CV] metric=manhattan, n_neighbors=11 ................................\n",
      "[CV] .... metric=manhattan, n_neighbors=11, score=0.950, total=   0.0s\n",
      "[CV] metric=manhattan, n_neighbors=11 ................................\n",
      "[CV] .... metric=manhattan, n_neighbors=11, score=0.950, total=   0.0s\n",
      "[CV] metric=manhattan, n_neighbors=11 ................................\n",
      "[CV] .... metric=manhattan, n_neighbors=11, score=0.924, total=   0.0s\n",
      "[CV] metric=manhattan, n_neighbors=11 ................................\n",
      "[CV] .... metric=manhattan, n_neighbors=11, score=0.949, total=   0.0s\n",
      "[CV] metric=minkowski, n_neighbors=3 .................................\n",
      "[CV] ..... metric=minkowski, n_neighbors=3, score=0.912, total=   0.0s\n",
      "[CV] metric=minkowski, n_neighbors=3 .................................\n",
      "[CV] ..... metric=minkowski, n_neighbors=3, score=0.938, total=   0.0s\n",
      "[CV] metric=minkowski, n_neighbors=3 .................................\n",
      "[CV] ..... metric=minkowski, n_neighbors=3, score=0.950, total=   0.0s\n",
      "[CV] metric=minkowski, n_neighbors=3 .................................\n",
      "[CV] ..... metric=minkowski, n_neighbors=3, score=0.899, total=   0.0s\n",
      "[CV] metric=minkowski, n_neighbors=3 .................................\n",
      "[CV] ..... metric=minkowski, n_neighbors=3, score=0.911, total=   0.0s\n",
      "[CV] metric=minkowski, n_neighbors=5 .................................\n",
      "[CV] ..... metric=minkowski, n_neighbors=5, score=0.925, total=   0.0s\n",
      "[CV] metric=minkowski, n_neighbors=5 .................................\n",
      "[CV] ..... metric=minkowski, n_neighbors=5, score=0.950, total=   0.0s\n",
      "[CV] metric=minkowski, n_neighbors=5 .................................\n",
      "[CV] ..... metric=minkowski, n_neighbors=5, score=0.963, total=   0.0s\n",
      "[CV] metric=minkowski, n_neighbors=5 .................................\n",
      "[CV] ..... metric=minkowski, n_neighbors=5, score=0.911, total=   0.0s\n",
      "[CV] metric=minkowski, n_neighbors=5 .................................\n",
      "[CV] ..... metric=minkowski, n_neighbors=5, score=0.937, total=   0.0s\n",
      "[CV] metric=minkowski, n_neighbors=7 .................................\n",
      "[CV] ..... metric=minkowski, n_neighbors=7, score=0.925, total=   0.0s\n",
      "[CV] metric=minkowski, n_neighbors=7 .................................\n",
      "[CV] ..... metric=minkowski, n_neighbors=7, score=0.925, total=   0.0s\n",
      "[CV] metric=minkowski, n_neighbors=7 .................................\n",
      "[CV] ..... metric=minkowski, n_neighbors=7, score=0.950, total=   0.0s\n",
      "[CV] metric=minkowski, n_neighbors=7 .................................\n",
      "[CV] ..... metric=minkowski, n_neighbors=7, score=0.924, total=   0.0s\n",
      "[CV] metric=minkowski, n_neighbors=7 .................................\n",
      "[CV] ..... metric=minkowski, n_neighbors=7, score=0.949, total=   0.0s\n",
      "[CV] metric=minkowski, n_neighbors=9 .................................\n",
      "[CV] ..... metric=minkowski, n_neighbors=9, score=0.912, total=   0.0s\n",
      "[CV] metric=minkowski, n_neighbors=9 .................................\n",
      "[CV] ..... metric=minkowski, n_neighbors=9, score=0.925, total=   0.0s\n",
      "[CV] metric=minkowski, n_neighbors=9 .................................\n",
      "[CV] ..... metric=minkowski, n_neighbors=9, score=0.963, total=   0.0s\n",
      "[CV] metric=minkowski, n_neighbors=9 .................................\n",
      "[CV] ..... metric=minkowski, n_neighbors=9, score=0.924, total=   0.0s\n",
      "[CV] metric=minkowski, n_neighbors=9 .................................\n",
      "[CV] ..... metric=minkowski, n_neighbors=9, score=0.937, total=   0.0s\n",
      "[CV] metric=minkowski, n_neighbors=11 ................................\n",
      "[CV] .... metric=minkowski, n_neighbors=11, score=0.912, total=   0.0s\n",
      "[CV] metric=minkowski, n_neighbors=11 ................................\n",
      "[CV] .... metric=minkowski, n_neighbors=11, score=0.925, total=   0.0s\n",
      "[CV] metric=minkowski, n_neighbors=11 ................................\n",
      "[CV] .... metric=minkowski, n_neighbors=11, score=0.950, total=   0.0s\n",
      "[CV] metric=minkowski, n_neighbors=11 ................................\n",
      "[CV] .... metric=minkowski, n_neighbors=11, score=0.924, total=   0.0s\n",
      "[CV] metric=minkowski, n_neighbors=11 ................................\n",
      "[CV] .... metric=minkowski, n_neighbors=11, score=0.937, total=   0.0s\n"
     ]
    },
    {
     "name": "stderr",
     "output_type": "stream",
     "text": [
      "[Parallel(n_jobs=1)]: Done  75 out of  75 | elapsed:    0.3s finished\n"
     ]
    },
    {
     "data": {
      "text/plain": [
       "GridSearchCV(cv=5, error_score=nan,\n",
       "             estimator=KNeighborsClassifier(algorithm='auto', leaf_size=30,\n",
       "                                            metric='minkowski',\n",
       "                                            metric_params=None, n_jobs=None,\n",
       "                                            n_neighbors=5, p=2,\n",
       "                                            weights='uniform'),\n",
       "             iid='deprecated', n_jobs=None,\n",
       "             param_grid={'metric': ['euclidean', 'manhattan', 'minkowski'],\n",
       "                         'n_neighbors': [3, 5, 7, 9, 11]},\n",
       "             pre_dispatch='2*n_jobs', refit=True, return_train_score=False,\n",
       "             scoring='accuracy', verbose=3)"
      ]
     },
     "execution_count": 21,
     "metadata": {},
     "output_type": "execute_result"
    }
   ],
   "source": [
    "grid.fit(X_train, y_train)"
   ]
  },
  {
   "cell_type": "code",
   "execution_count": 22,
   "id": "applied-financing",
   "metadata": {},
   "outputs": [
    {
     "data": {
      "text/plain": [
       "{'metric': 'manhattan', 'n_neighbors': 7}"
      ]
     },
     "execution_count": 22,
     "metadata": {},
     "output_type": "execute_result"
    }
   ],
   "source": [
    "grid.best_params_"
   ]
  },
  {
   "cell_type": "code",
   "execution_count": 23,
   "id": "wrapped-filing",
   "metadata": {},
   "outputs": [
    {
     "data": {
      "text/plain": [
       "0.9396835443037975"
      ]
     },
     "execution_count": 23,
     "metadata": {},
     "output_type": "execute_result"
    }
   ],
   "source": [
    "grid.best_score_"
   ]
  },
  {
   "cell_type": "code",
   "execution_count": 24,
   "id": "portable-cornwall",
   "metadata": {},
   "outputs": [
    {
     "data": {
      "text/plain": [
       "0.935672514619883"
      ]
     },
     "execution_count": 24,
     "metadata": {},
     "output_type": "execute_result"
    }
   ],
   "source": [
    "y_pred = grid.predict(X_test)\n",
    "from sklearn.metrics import accuracy_score\n",
    "accuracy_score(y_test, y_pred)"
   ]
  },
  {
   "cell_type": "code",
   "execution_count": 25,
   "id": "honest-kansas",
   "metadata": {},
   "outputs": [
    {
     "data": {
      "text/plain": [
       "0.9181286549707602"
      ]
     },
     "execution_count": 25,
     "metadata": {},
     "output_type": "execute_result"
    }
   ],
   "source": [
    "y_knn = knn.predict(X_test)\n",
    "accuracy_score(y_test, y_knn)"
   ]
  },
  {
   "cell_type": "code",
   "execution_count": 26,
   "id": "attempted-story",
   "metadata": {},
   "outputs": [
    {
     "data": {
      "text/plain": [
       "0.9547738693467337"
      ]
     },
     "execution_count": 26,
     "metadata": {},
     "output_type": "execute_result"
    }
   ],
   "source": [
    "grid.score(X_train, y_train)"
   ]
  },
  {
   "cell_type": "code",
   "execution_count": 27,
   "id": "specialized-eclipse",
   "metadata": {},
   "outputs": [
    {
     "data": {
      "text/plain": [
       "0.957286432160804"
      ]
     },
     "execution_count": 27,
     "metadata": {},
     "output_type": "execute_result"
    }
   ],
   "source": [
    "from sklearn.linear_model import LogisticRegression\n",
    "logreg = LogisticRegression(solver = 'liblinear')\n",
    "logreg.fit(X_train, y_train)\n",
    "logreg.score(X_train, y_train)"
   ]
  },
  {
   "cell_type": "code",
   "execution_count": 28,
   "id": "boring-accountability",
   "metadata": {},
   "outputs": [],
   "source": [
    "lr_grid = GridSearchCV(logreg, param_grid=params['logistic_regression'], cv = 5, verbose = 3, scoring = 'accuracy')"
   ]
  },
  {
   "cell_type": "code",
   "execution_count": 29,
   "id": "decimal-messenger",
   "metadata": {},
   "outputs": [
    {
     "name": "stdout",
     "output_type": "stream",
     "text": [
      "Fitting 5 folds for each of 16 candidates, totalling 80 fits\n",
      "[CV] C=1.0, max_iter=100 .............................................\n",
      "[CV] ................. C=1.0, max_iter=100, score=0.950, total=   0.0s\n",
      "[CV] C=1.0, max_iter=100 .............................................\n",
      "[CV] ................. C=1.0, max_iter=100, score=0.950, total=   0.0s\n",
      "[CV] C=1.0, max_iter=100 .............................................\n",
      "[CV] ................. C=1.0, max_iter=100, score=0.975, total=   0.0s\n",
      "[CV] C=1.0, max_iter=100 .............................................\n",
      "[CV] ................. C=1.0, max_iter=100, score=0.911, total=   0.0s\n",
      "[CV] C=1.0, max_iter=100 .............................................\n",
      "[CV] ................. C=1.0, max_iter=100, score=0.949, total=   0.0s\n",
      "[CV] C=1.0, max_iter=200 .............................................\n",
      "[CV] ................. C=1.0, max_iter=200, score=0.950, total=   0.0s\n",
      "[CV] C=1.0, max_iter=200 .............................................\n",
      "[CV] ................. C=1.0, max_iter=200, score=0.950, total=   0.0s\n",
      "[CV] C=1.0, max_iter=200 .............................................\n",
      "[CV] ................. C=1.0, max_iter=200, score=0.975, total=   0.0s\n",
      "[CV] C=1.0, max_iter=200 .............................................\n",
      "[CV] ................. C=1.0, max_iter=200, score=0.911, total=   0.0s\n",
      "[CV] C=1.0, max_iter=200 .............................................\n",
      "[CV] ................. C=1.0, max_iter=200, score=0.949, total=   0.0s\n",
      "[CV] C=1.0, max_iter=300 .............................................\n",
      "[CV] ................. C=1.0, max_iter=300, score=0.950, total=   0.0s\n",
      "[CV] C=1.0, max_iter=300 .............................................\n",
      "[CV] ................. C=1.0, max_iter=300, score=0.950, total=   0.0s\n",
      "[CV] C=1.0, max_iter=300 .............................................\n",
      "[CV] ................. C=1.0, max_iter=300, score=0.975, total=   0.0s\n",
      "[CV] C=1.0, max_iter=300 .............................................\n",
      "[CV] ................. C=1.0, max_iter=300, score=0.911, total=   0.0s\n",
      "[CV] C=1.0, max_iter=300 .............................................\n",
      "[CV] ................. C=1.0, max_iter=300, score=0.949, total=   0.0s\n",
      "[CV] C=1.0, max_iter=400 .............................................\n",
      "[CV] ................. C=1.0, max_iter=400, score=0.950, total=   0.0s\n",
      "[CV] C=1.0, max_iter=400 .............................................\n",
      "[CV] ................. C=1.0, max_iter=400, score=0.950, total=   0.0s\n",
      "[CV] C=1.0, max_iter=400 .............................................\n",
      "[CV] ................. C=1.0, max_iter=400, score=0.975, total=   0.0s\n",
      "[CV] C=1.0, max_iter=400 .............................................\n",
      "[CV] ................. C=1.0, max_iter=400, score=0.911, total=   0.0s\n",
      "[CV] C=1.0, max_iter=400 .............................................\n",
      "[CV] ................. C=1.0, max_iter=400, score=0.949, total=   0.0s\n",
      "[CV] C=2.0, max_iter=100 .............................................\n",
      "[CV] ................. C=2.0, max_iter=100, score=0.950, total=   0.0s\n",
      "[CV] C=2.0, max_iter=100 .............................................\n",
      "[CV] ................. C=2.0, max_iter=100, score=0.963, total=   0.0s\n",
      "[CV] C=2.0, max_iter=100 .............................................\n",
      "[CV] ................. C=2.0, max_iter=100, score=0.963, total=   0.0s\n",
      "[CV] C=2.0, max_iter=100 .............................................\n",
      "[CV] ................. C=2.0, max_iter=100, score=0.924, total=   0.0s\n",
      "[CV] C=2.0, max_iter=100 .............................................\n",
      "[CV] ................. C=2.0, max_iter=100, score=0.949, total=   0.0s\n",
      "[CV] C=2.0, max_iter=200 .............................................\n",
      "[CV] ................. C=2.0, max_iter=200, score=0.950, total=   0.0s\n",
      "[CV] C=2.0, max_iter=200 .............................................\n",
      "[CV] ................. C=2.0, max_iter=200, score=0.963, total=   0.0s\n",
      "[CV] C=2.0, max_iter=200 .............................................\n",
      "[CV] ................. C=2.0, max_iter=200, score=0.963, total=   0.0s\n",
      "[CV] C=2.0, max_iter=200 .............................................\n",
      "[CV] ................. C=2.0, max_iter=200, score=0.924, total=   0.0s\n",
      "[CV] C=2.0, max_iter=200 .............................................\n",
      "[CV] ................. C=2.0, max_iter=200, score=0.949, total=   0.0s\n",
      "[CV] C=2.0, max_iter=300 .............................................\n",
      "[CV] ................. C=2.0, max_iter=300, score=0.950, total=   0.0s\n",
      "[CV] C=2.0, max_iter=300 .............................................\n",
      "[CV] ................. C=2.0, max_iter=300, score=0.963, total=   0.0s\n",
      "[CV] C=2.0, max_iter=300 .............................................\n",
      "[CV] ................. C=2.0, max_iter=300, score=0.963, total=   0.0s\n",
      "[CV] C=2.0, max_iter=300 .............................................\n",
      "[CV] ................. C=2.0, max_iter=300, score=0.924, total=   0.0s\n",
      "[CV] C=2.0, max_iter=300 .............................................\n",
      "[CV] ................. C=2.0, max_iter=300, score=0.949, total=   0.0s\n",
      "[CV] C=2.0, max_iter=400 .............................................\n",
      "[CV] ................. C=2.0, max_iter=400, score=0.950, total=   0.0s\n",
      "[CV] C=2.0, max_iter=400 .............................................\n",
      "[CV] ................. C=2.0, max_iter=400, score=0.963, total=   0.0s\n",
      "[CV] C=2.0, max_iter=400 .............................................\n",
      "[CV] ................. C=2.0, max_iter=400, score=0.963, total=   0.0s\n",
      "[CV] C=2.0, max_iter=400 .............................................\n",
      "[CV] ................. C=2.0, max_iter=400, score=0.924, total=   0.0s\n",
      "[CV] C=2.0, max_iter=400 .............................................\n",
      "[CV] ................. C=2.0, max_iter=400, score=0.949, total=   0.0s\n",
      "[CV] C=3.0, max_iter=100 .............................................\n",
      "[CV] ................. C=3.0, max_iter=100, score=0.950, total=   0.0s"
     ]
    },
    {
     "name": "stderr",
     "output_type": "stream",
     "text": [
      "[Parallel(n_jobs=1)]: Using backend SequentialBackend with 1 concurrent workers.\n",
      "[Parallel(n_jobs=1)]: Done   1 out of   1 | elapsed:    0.0s remaining:    0.0s\n",
      "[Parallel(n_jobs=1)]: Done   2 out of   2 | elapsed:    0.0s remaining:    0.0s\n"
     ]
    },
    {
     "name": "stdout",
     "output_type": "stream",
     "text": [
      "\n",
      "[CV] C=3.0, max_iter=100 .............................................\n",
      "[CV] ................. C=3.0, max_iter=100, score=0.963, total=   0.0s\n",
      "[CV] C=3.0, max_iter=100 .............................................\n",
      "[CV] ................. C=3.0, max_iter=100, score=0.963, total=   0.0s\n",
      "[CV] C=3.0, max_iter=100 .............................................\n",
      "[CV] ................. C=3.0, max_iter=100, score=0.924, total=   0.0s\n",
      "[CV] C=3.0, max_iter=100 .............................................\n",
      "[CV] ................. C=3.0, max_iter=100, score=0.962, total=   0.0s\n",
      "[CV] C=3.0, max_iter=200 .............................................\n",
      "[CV] ................. C=3.0, max_iter=200, score=0.950, total=   0.0s\n",
      "[CV] C=3.0, max_iter=200 .............................................\n",
      "[CV] ................. C=3.0, max_iter=200, score=0.963, total=   0.0s\n",
      "[CV] C=3.0, max_iter=200 .............................................\n",
      "[CV] ................. C=3.0, max_iter=200, score=0.963, total=   0.0s\n",
      "[CV] C=3.0, max_iter=200 .............................................\n",
      "[CV] ................. C=3.0, max_iter=200, score=0.924, total=   0.0s\n",
      "[CV] C=3.0, max_iter=200 .............................................\n",
      "[CV] ................. C=3.0, max_iter=200, score=0.962, total=   0.0s\n",
      "[CV] C=3.0, max_iter=300 .............................................\n",
      "[CV] ................. C=3.0, max_iter=300, score=0.950, total=   0.0s\n",
      "[CV] C=3.0, max_iter=300 .............................................\n",
      "[CV] ................. C=3.0, max_iter=300, score=0.963, total=   0.0s\n",
      "[CV] C=3.0, max_iter=300 .............................................\n",
      "[CV] ................. C=3.0, max_iter=300, score=0.963, total=   0.0s\n",
      "[CV] C=3.0, max_iter=300 .............................................\n",
      "[CV] ................. C=3.0, max_iter=300, score=0.924, total=   0.0s\n",
      "[CV] C=3.0, max_iter=300 .............................................\n",
      "[CV] ................. C=3.0, max_iter=300, score=0.962, total=   0.0s\n",
      "[CV] C=3.0, max_iter=400 .............................................\n",
      "[CV] ................. C=3.0, max_iter=400, score=0.950, total=   0.0s\n",
      "[CV] C=3.0, max_iter=400 .............................................\n",
      "[CV] ................. C=3.0, max_iter=400, score=0.963, total=   0.0s\n",
      "[CV] C=3.0, max_iter=400 .............................................\n",
      "[CV] ................. C=3.0, max_iter=400, score=0.963, total=   0.0s\n",
      "[CV] C=3.0, max_iter=400 .............................................\n",
      "[CV] ................. C=3.0, max_iter=400, score=0.924, total=   0.0s\n",
      "[CV] C=3.0, max_iter=400 .............................................\n",
      "[CV] ................. C=3.0, max_iter=400, score=0.962, total=   0.0s\n",
      "[CV] C=4.0, max_iter=100 .............................................\n",
      "[CV] ................. C=4.0, max_iter=100, score=0.950, total=   0.0s\n",
      "[CV] C=4.0, max_iter=100 .............................................\n",
      "[CV] ................. C=4.0, max_iter=100, score=0.963, total=   0.0s\n",
      "[CV] C=4.0, max_iter=100 .............................................\n",
      "[CV] ................. C=4.0, max_iter=100, score=0.963, total=   0.0s\n",
      "[CV] C=4.0, max_iter=100 .............................................\n",
      "[CV] ................. C=4.0, max_iter=100, score=0.924, total=   0.0s\n",
      "[CV] C=4.0, max_iter=100 .............................................\n",
      "[CV] ................. C=4.0, max_iter=100, score=0.962, total=   0.0s\n",
      "[CV] C=4.0, max_iter=200 .............................................\n",
      "[CV] ................. C=4.0, max_iter=200, score=0.950, total=   0.0s\n",
      "[CV] C=4.0, max_iter=200 .............................................\n",
      "[CV] ................. C=4.0, max_iter=200, score=0.963, total=   0.0s\n",
      "[CV] C=4.0, max_iter=200 .............................................\n",
      "[CV] ................. C=4.0, max_iter=200, score=0.963, total=   0.0s\n",
      "[CV] C=4.0, max_iter=200 .............................................\n",
      "[CV] ................. C=4.0, max_iter=200, score=0.924, total=   0.0s\n",
      "[CV] C=4.0, max_iter=200 .............................................\n",
      "[CV] ................. C=4.0, max_iter=200, score=0.962, total=   0.0s\n",
      "[CV] C=4.0, max_iter=300 .............................................\n",
      "[CV] ................. C=4.0, max_iter=300, score=0.950, total=   0.0s\n",
      "[CV] C=4.0, max_iter=300 .............................................\n",
      "[CV] ................. C=4.0, max_iter=300, score=0.963, total=   0.0s\n",
      "[CV] C=4.0, max_iter=300 .............................................\n",
      "[CV] ................. C=4.0, max_iter=300, score=0.963, total=   0.0s\n",
      "[CV] C=4.0, max_iter=300 .............................................\n",
      "[CV] ................. C=4.0, max_iter=300, score=0.924, total=   0.0s\n",
      "[CV] C=4.0, max_iter=300 .............................................\n",
      "[CV] ................. C=4.0, max_iter=300, score=0.962, total=   0.0s\n",
      "[CV] C=4.0, max_iter=400 .............................................\n",
      "[CV] ................. C=4.0, max_iter=400, score=0.950, total=   0.0s\n",
      "[CV] C=4.0, max_iter=400 .............................................\n",
      "[CV] ................. C=4.0, max_iter=400, score=0.963, total=   0.0s\n",
      "[CV] C=4.0, max_iter=400 .............................................\n",
      "[CV] ................. C=4.0, max_iter=400, score=0.963, total=   0.0s\n",
      "[CV] C=4.0, max_iter=400 .............................................\n",
      "[CV] ................. C=4.0, max_iter=400, score=0.924, total=   0.0s\n",
      "[CV] C=4.0, max_iter=400 .............................................\n",
      "[CV] ................. C=4.0, max_iter=400, score=0.962, total=   0.0s\n"
     ]
    },
    {
     "name": "stderr",
     "output_type": "stream",
     "text": [
      "[Parallel(n_jobs=1)]: Done  80 out of  80 | elapsed:    0.2s finished\n"
     ]
    },
    {
     "data": {
      "text/plain": [
       "GridSearchCV(cv=5, error_score=nan,\n",
       "             estimator=LogisticRegression(C=1.0, class_weight=None, dual=False,\n",
       "                                          fit_intercept=True,\n",
       "                                          intercept_scaling=1, l1_ratio=None,\n",
       "                                          max_iter=100, multi_class='auto',\n",
       "                                          n_jobs=None, penalty='l2',\n",
       "                                          random_state=None, solver='liblinear',\n",
       "                                          tol=0.0001, verbose=0,\n",
       "                                          warm_start=False),\n",
       "             iid='deprecated', n_jobs=None,\n",
       "             param_grid={'C': [1.0, 2.0, 3.0, 4.0],\n",
       "                         'max_iter': [100, 200, 300, 400]},\n",
       "             pre_dispatch='2*n_jobs', refit=True, return_train_score=False,\n",
       "             scoring='accuracy', verbose=3)"
      ]
     },
     "execution_count": 29,
     "metadata": {},
     "output_type": "execute_result"
    }
   ],
   "source": [
    "lr_grid.fit(X_train, y_train)"
   ]
  },
  {
   "cell_type": "code",
   "execution_count": 30,
   "id": "biological-friend",
   "metadata": {},
   "outputs": [
    {
     "data": {
      "text/plain": [
       "{'C': 3.0, 'max_iter': 100}"
      ]
     },
     "execution_count": 30,
     "metadata": {},
     "output_type": "execute_result"
    }
   ],
   "source": [
    "lr_grid.best_params_"
   ]
  },
  {
   "cell_type": "code",
   "execution_count": 31,
   "id": "amateur-duration",
   "metadata": {},
   "outputs": [
    {
     "data": {
      "text/plain": [
       "0.9522151898734178"
      ]
     },
     "execution_count": 31,
     "metadata": {},
     "output_type": "execute_result"
    }
   ],
   "source": [
    "lr_grid.best_score_"
   ]
  },
  {
   "cell_type": "code",
   "execution_count": 32,
   "id": "healthy-compromise",
   "metadata": {},
   "outputs": [
    {
     "data": {
      "text/plain": [
       "0.9597989949748744"
      ]
     },
     "execution_count": 32,
     "metadata": {},
     "output_type": "execute_result"
    }
   ],
   "source": [
    "lr_grid.score(X_train, y_train)"
   ]
  },
  {
   "cell_type": "code",
   "execution_count": 33,
   "id": "relevant-fireplace",
   "metadata": {},
   "outputs": [],
   "source": [
    "lr_pred = logreg.predict(X_test)\n",
    "lr_grid_pred = lr_grid.predict(X_test)"
   ]
  },
  {
   "cell_type": "code",
   "execution_count": 34,
   "id": "earlier-divide",
   "metadata": {},
   "outputs": [
    {
     "data": {
      "text/plain": [
       "0.9590643274853801"
      ]
     },
     "execution_count": 34,
     "metadata": {},
     "output_type": "execute_result"
    }
   ],
   "source": [
    "accuracy_score(y_test, lr_pred)"
   ]
  },
  {
   "cell_type": "code",
   "execution_count": 35,
   "id": "fourth-azerbaijan",
   "metadata": {},
   "outputs": [
    {
     "data": {
      "text/plain": [
       "0.9649122807017544"
      ]
     },
     "execution_count": 35,
     "metadata": {},
     "output_type": "execute_result"
    }
   ],
   "source": [
    "accuracy_score(y_test, lr_grid_pred)"
   ]
  },
  {
   "cell_type": "code",
   "execution_count": 36,
   "id": "blank-violation",
   "metadata": {},
   "outputs": [
    {
     "data": {
      "text/plain": [
       "{'cv': 5,\n",
       " 'error_score': nan,\n",
       " 'estimator__C': 1.0,\n",
       " 'estimator__class_weight': None,\n",
       " 'estimator__dual': False,\n",
       " 'estimator__fit_intercept': True,\n",
       " 'estimator__intercept_scaling': 1,\n",
       " 'estimator__l1_ratio': None,\n",
       " 'estimator__max_iter': 100,\n",
       " 'estimator__multi_class': 'auto',\n",
       " 'estimator__n_jobs': None,\n",
       " 'estimator__penalty': 'l2',\n",
       " 'estimator__random_state': None,\n",
       " 'estimator__solver': 'liblinear',\n",
       " 'estimator__tol': 0.0001,\n",
       " 'estimator__verbose': 0,\n",
       " 'estimator__warm_start': False,\n",
       " 'estimator': LogisticRegression(C=1.0, class_weight=None, dual=False, fit_intercept=True,\n",
       "                    intercept_scaling=1, l1_ratio=None, max_iter=100,\n",
       "                    multi_class='auto', n_jobs=None, penalty='l2',\n",
       "                    random_state=None, solver='liblinear', tol=0.0001, verbose=0,\n",
       "                    warm_start=False),\n",
       " 'iid': 'deprecated',\n",
       " 'n_jobs': None,\n",
       " 'param_grid': {'C': [1.0, 2.0, 3.0, 4.0], 'max_iter': [100, 200, 300, 400]},\n",
       " 'pre_dispatch': '2*n_jobs',\n",
       " 'refit': True,\n",
       " 'return_train_score': False,\n",
       " 'scoring': 'accuracy',\n",
       " 'verbose': 3}"
      ]
     },
     "execution_count": 36,
     "metadata": {},
     "output_type": "execute_result"
    }
   ],
   "source": [
    "lr_grid.get_params()"
   ]
  },
  {
   "cell_type": "code",
   "execution_count": 38,
   "id": "secret-aruba",
   "metadata": {},
   "outputs": [
    {
     "data": {
      "text/plain": [
       "'accuracy'"
      ]
     },
     "execution_count": 38,
     "metadata": {},
     "output_type": "execute_result"
    }
   ],
   "source": [
    "lr_grid.scoring"
   ]
  },
  {
   "cell_type": "code",
   "execution_count": 40,
   "id": "fluid-dutch",
   "metadata": {},
   "outputs": [
    {
     "data": {
      "text/plain": [
       "{'mean_fit_time': array([0.00360322, 0.0038034 , 0.00320244, 0.00340257, 0.00340266,\n",
       "        0.00380306, 0.00340261, 0.00360303, 0.00320263, 0.00320311,\n",
       "        0.00380278, 0.00320277, 0.0028019 , 0.00360308, 0.00340247,\n",
       "        0.0026022 ]),\n",
       " 'std_fit_time': array([0.00049076, 0.00074945, 0.0004003 , 0.00049019, 0.00102102,\n",
       "        0.00074911, 0.00080084, 0.0004906 , 0.00040009, 0.00098011,\n",
       "        0.00040054, 0.00040014, 0.0007489 , 0.00049035, 0.00049037,\n",
       "        0.00049035]),\n",
       " 'mean_score_time': array([0.00060077, 0.00040045, 0.00080123, 0.00020037, 0.00040069,\n",
       "        0.00060091, 0.00020013, 0.00060096, 0.00060067, 0.00060062,\n",
       "        0.        , 0.00060053, 0.00040059, 0.00020032, 0.00060101,\n",
       "        0.00060067]),\n",
       " 'std_score_time': array([0.00049052, 0.00049045, 0.00040061, 0.00040073, 0.00049074,\n",
       "        0.00049064, 0.00040026, 0.00049068, 0.00049045, 0.00049041,\n",
       "        0.        , 0.00049033, 0.00049062, 0.00040064, 0.00049072,\n",
       "        0.00049045]),\n",
       " 'param_C': masked_array(data=[1.0, 1.0, 1.0, 1.0, 2.0, 2.0, 2.0, 2.0, 3.0, 3.0, 3.0,\n",
       "                    3.0, 4.0, 4.0, 4.0, 4.0],\n",
       "              mask=[False, False, False, False, False, False, False, False,\n",
       "                    False, False, False, False, False, False, False, False],\n",
       "        fill_value='?',\n",
       "             dtype=object),\n",
       " 'param_max_iter': masked_array(data=[100, 200, 300, 400, 100, 200, 300, 400, 100, 200, 300,\n",
       "                    400, 100, 200, 300, 400],\n",
       "              mask=[False, False, False, False, False, False, False, False,\n",
       "                    False, False, False, False, False, False, False, False],\n",
       "        fill_value='?',\n",
       "             dtype=object),\n",
       " 'params': [{'C': 1.0, 'max_iter': 100},\n",
       "  {'C': 1.0, 'max_iter': 200},\n",
       "  {'C': 1.0, 'max_iter': 300},\n",
       "  {'C': 1.0, 'max_iter': 400},\n",
       "  {'C': 2.0, 'max_iter': 100},\n",
       "  {'C': 2.0, 'max_iter': 200},\n",
       "  {'C': 2.0, 'max_iter': 300},\n",
       "  {'C': 2.0, 'max_iter': 400},\n",
       "  {'C': 3.0, 'max_iter': 100},\n",
       "  {'C': 3.0, 'max_iter': 200},\n",
       "  {'C': 3.0, 'max_iter': 300},\n",
       "  {'C': 3.0, 'max_iter': 400},\n",
       "  {'C': 4.0, 'max_iter': 100},\n",
       "  {'C': 4.0, 'max_iter': 200},\n",
       "  {'C': 4.0, 'max_iter': 300},\n",
       "  {'C': 4.0, 'max_iter': 400}],\n",
       " 'split0_test_score': array([0.95, 0.95, 0.95, 0.95, 0.95, 0.95, 0.95, 0.95, 0.95, 0.95, 0.95,\n",
       "        0.95, 0.95, 0.95, 0.95, 0.95]),\n",
       " 'split1_test_score': array([0.95  , 0.95  , 0.95  , 0.95  , 0.9625, 0.9625, 0.9625, 0.9625,\n",
       "        0.9625, 0.9625, 0.9625, 0.9625, 0.9625, 0.9625, 0.9625, 0.9625]),\n",
       " 'split2_test_score': array([0.975 , 0.975 , 0.975 , 0.975 , 0.9625, 0.9625, 0.9625, 0.9625,\n",
       "        0.9625, 0.9625, 0.9625, 0.9625, 0.9625, 0.9625, 0.9625, 0.9625]),\n",
       " 'split3_test_score': array([0.91139241, 0.91139241, 0.91139241, 0.91139241, 0.92405063,\n",
       "        0.92405063, 0.92405063, 0.92405063, 0.92405063, 0.92405063,\n",
       "        0.92405063, 0.92405063, 0.92405063, 0.92405063, 0.92405063,\n",
       "        0.92405063]),\n",
       " 'split4_test_score': array([0.94936709, 0.94936709, 0.94936709, 0.94936709, 0.94936709,\n",
       "        0.94936709, 0.94936709, 0.94936709, 0.96202532, 0.96202532,\n",
       "        0.96202532, 0.96202532, 0.96202532, 0.96202532, 0.96202532,\n",
       "        0.96202532]),\n",
       " 'mean_test_score': array([0.9471519 , 0.9471519 , 0.9471519 , 0.9471519 , 0.94968354,\n",
       "        0.94968354, 0.94968354, 0.94968354, 0.95221519, 0.95221519,\n",
       "        0.95221519, 0.95221519, 0.95221519, 0.95221519, 0.95221519,\n",
       "        0.95221519]),\n",
       " 'std_test_score': array([0.02037346, 0.02037346, 0.02037346, 0.02037346, 0.01404115,\n",
       "        0.01404115, 0.01404115, 0.01404115, 0.01487241, 0.01487241,\n",
       "        0.01487241, 0.01487241, 0.01487241, 0.01487241, 0.01487241,\n",
       "        0.01487241]),\n",
       " 'rank_test_score': array([13, 13, 13, 13,  9,  9,  9,  9,  1,  1,  1,  1,  1,  1,  1,  1])}"
      ]
     },
     "execution_count": 40,
     "metadata": {},
     "output_type": "execute_result"
    }
   ],
   "source": [
    "lr_grid.cv_results_"
   ]
  },
  {
   "cell_type": "code",
   "execution_count": null,
   "id": "surprised-permission",
   "metadata": {},
   "outputs": [],
   "source": []
  }
 ],
 "metadata": {
  "kernelspec": {
   "display_name": "Python 3",
   "language": "python",
   "name": "python3"
  },
  "language_info": {
   "codemirror_mode": {
    "name": "ipython",
    "version": 3
   },
   "file_extension": ".py",
   "mimetype": "text/x-python",
   "name": "python",
   "nbconvert_exporter": "python",
   "pygments_lexer": "ipython3",
   "version": "3.7.0"
  }
 },
 "nbformat": 4,
 "nbformat_minor": 5
}
