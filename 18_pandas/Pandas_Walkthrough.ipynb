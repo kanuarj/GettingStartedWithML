{
 "cells": [
  {
   "cell_type": "code",
   "execution_count": 1,
   "id": "rocky-blocking",
   "metadata": {},
   "outputs": [],
   "source": [
    "import numpy as np\n",
    "import pandas as pd"
   ]
  },
  {
   "cell_type": "code",
   "execution_count": 2,
   "id": "trying-screening",
   "metadata": {},
   "outputs": [],
   "source": [
    "s = pd.Series([1,2,4,6,7])"
   ]
  },
  {
   "cell_type": "code",
   "execution_count": 3,
   "id": "painful-horizontal",
   "metadata": {},
   "outputs": [
    {
     "data": {
      "text/plain": [
       "0    1\n",
       "1    2\n",
       "2    4\n",
       "3    6\n",
       "4    7\n",
       "dtype: int64"
      ]
     },
     "execution_count": 3,
     "metadata": {},
     "output_type": "execute_result"
    }
   ],
   "source": [
    "s"
   ]
  },
  {
   "cell_type": "code",
   "execution_count": 4,
   "id": "present-moore",
   "metadata": {},
   "outputs": [],
   "source": [
    "dates = pd.date_range('20210609', periods=5)"
   ]
  },
  {
   "cell_type": "code",
   "execution_count": 5,
   "id": "explicit-mustang",
   "metadata": {},
   "outputs": [
    {
     "data": {
      "text/plain": [
       "DatetimeIndex(['2021-06-09', '2021-06-10', '2021-06-11', '2021-06-12',\n",
       "               '2021-06-13'],\n",
       "              dtype='datetime64[ns]', freq='D')"
      ]
     },
     "execution_count": 5,
     "metadata": {},
     "output_type": "execute_result"
    }
   ],
   "source": [
    "dates"
   ]
  },
  {
   "cell_type": "code",
   "execution_count": 6,
   "id": "weird-blair",
   "metadata": {},
   "outputs": [],
   "source": [
    "df = pd.DataFrame(np.random.randn(5, 4), index = dates, columns=list('ABCD'))"
   ]
  },
  {
   "cell_type": "code",
   "execution_count": 7,
   "id": "adjacent-davis",
   "metadata": {},
   "outputs": [
    {
     "data": {
      "text/html": [
       "<div>\n",
       "<style scoped>\n",
       "    .dataframe tbody tr th:only-of-type {\n",
       "        vertical-align: middle;\n",
       "    }\n",
       "\n",
       "    .dataframe tbody tr th {\n",
       "        vertical-align: top;\n",
       "    }\n",
       "\n",
       "    .dataframe thead th {\n",
       "        text-align: right;\n",
       "    }\n",
       "</style>\n",
       "<table border=\"1\" class=\"dataframe\">\n",
       "  <thead>\n",
       "    <tr style=\"text-align: right;\">\n",
       "      <th></th>\n",
       "      <th>A</th>\n",
       "      <th>B</th>\n",
       "      <th>C</th>\n",
       "      <th>D</th>\n",
       "    </tr>\n",
       "  </thead>\n",
       "  <tbody>\n",
       "    <tr>\n",
       "      <th>2021-06-09</th>\n",
       "      <td>-0.550111</td>\n",
       "      <td>1.570150</td>\n",
       "      <td>-2.057431</td>\n",
       "      <td>0.058547</td>\n",
       "    </tr>\n",
       "    <tr>\n",
       "      <th>2021-06-10</th>\n",
       "      <td>-0.229350</td>\n",
       "      <td>1.626667</td>\n",
       "      <td>-1.697047</td>\n",
       "      <td>0.066035</td>\n",
       "    </tr>\n",
       "    <tr>\n",
       "      <th>2021-06-11</th>\n",
       "      <td>-2.082050</td>\n",
       "      <td>-0.030690</td>\n",
       "      <td>0.551818</td>\n",
       "      <td>0.084764</td>\n",
       "    </tr>\n",
       "    <tr>\n",
       "      <th>2021-06-12</th>\n",
       "      <td>-2.021212</td>\n",
       "      <td>-1.295692</td>\n",
       "      <td>-0.250714</td>\n",
       "      <td>0.624834</td>\n",
       "    </tr>\n",
       "    <tr>\n",
       "      <th>2021-06-13</th>\n",
       "      <td>-0.549771</td>\n",
       "      <td>0.551846</td>\n",
       "      <td>-0.103707</td>\n",
       "      <td>1.117387</td>\n",
       "    </tr>\n",
       "  </tbody>\n",
       "</table>\n",
       "</div>"
      ],
      "text/plain": [
       "                   A         B         C         D\n",
       "2021-06-09 -0.550111  1.570150 -2.057431  0.058547\n",
       "2021-06-10 -0.229350  1.626667 -1.697047  0.066035\n",
       "2021-06-11 -2.082050 -0.030690  0.551818  0.084764\n",
       "2021-06-12 -2.021212 -1.295692 -0.250714  0.624834\n",
       "2021-06-13 -0.549771  0.551846 -0.103707  1.117387"
      ]
     },
     "execution_count": 7,
     "metadata": {},
     "output_type": "execute_result"
    }
   ],
   "source": [
    "df"
   ]
  },
  {
   "cell_type": "code",
   "execution_count": 8,
   "id": "planned-gambling",
   "metadata": {},
   "outputs": [
    {
     "data": {
      "text/plain": [
       "A    float64\n",
       "B    float64\n",
       "C    float64\n",
       "D    float64\n",
       "dtype: object"
      ]
     },
     "execution_count": 8,
     "metadata": {},
     "output_type": "execute_result"
    }
   ],
   "source": [
    "df.dtypes"
   ]
  },
  {
   "cell_type": "code",
   "execution_count": 9,
   "id": "neural-packet",
   "metadata": {},
   "outputs": [
    {
     "data": {
      "text/html": [
       "<div>\n",
       "<style scoped>\n",
       "    .dataframe tbody tr th:only-of-type {\n",
       "        vertical-align: middle;\n",
       "    }\n",
       "\n",
       "    .dataframe tbody tr th {\n",
       "        vertical-align: top;\n",
       "    }\n",
       "\n",
       "    .dataframe thead th {\n",
       "        text-align: right;\n",
       "    }\n",
       "</style>\n",
       "<table border=\"1\" class=\"dataframe\">\n",
       "  <thead>\n",
       "    <tr style=\"text-align: right;\">\n",
       "      <th></th>\n",
       "      <th>A</th>\n",
       "      <th>B</th>\n",
       "      <th>C</th>\n",
       "      <th>D</th>\n",
       "    </tr>\n",
       "  </thead>\n",
       "  <tbody>\n",
       "    <tr>\n",
       "      <th>2021-06-09</th>\n",
       "      <td>-0.550111</td>\n",
       "      <td>1.570150</td>\n",
       "      <td>-2.057431</td>\n",
       "      <td>0.058547</td>\n",
       "    </tr>\n",
       "    <tr>\n",
       "      <th>2021-06-10</th>\n",
       "      <td>-0.229350</td>\n",
       "      <td>1.626667</td>\n",
       "      <td>-1.697047</td>\n",
       "      <td>0.066035</td>\n",
       "    </tr>\n",
       "    <tr>\n",
       "      <th>2021-06-11</th>\n",
       "      <td>-2.082050</td>\n",
       "      <td>-0.030690</td>\n",
       "      <td>0.551818</td>\n",
       "      <td>0.084764</td>\n",
       "    </tr>\n",
       "    <tr>\n",
       "      <th>2021-06-12</th>\n",
       "      <td>-2.021212</td>\n",
       "      <td>-1.295692</td>\n",
       "      <td>-0.250714</td>\n",
       "      <td>0.624834</td>\n",
       "    </tr>\n",
       "    <tr>\n",
       "      <th>2021-06-13</th>\n",
       "      <td>-0.549771</td>\n",
       "      <td>0.551846</td>\n",
       "      <td>-0.103707</td>\n",
       "      <td>1.117387</td>\n",
       "    </tr>\n",
       "  </tbody>\n",
       "</table>\n",
       "</div>"
      ],
      "text/plain": [
       "                   A         B         C         D\n",
       "2021-06-09 -0.550111  1.570150 -2.057431  0.058547\n",
       "2021-06-10 -0.229350  1.626667 -1.697047  0.066035\n",
       "2021-06-11 -2.082050 -0.030690  0.551818  0.084764\n",
       "2021-06-12 -2.021212 -1.295692 -0.250714  0.624834\n",
       "2021-06-13 -0.549771  0.551846 -0.103707  1.117387"
      ]
     },
     "execution_count": 9,
     "metadata": {},
     "output_type": "execute_result"
    }
   ],
   "source": [
    "df.head()"
   ]
  },
  {
   "cell_type": "code",
   "execution_count": 10,
   "id": "greenhouse-still",
   "metadata": {},
   "outputs": [
    {
     "data": {
      "text/html": [
       "<div>\n",
       "<style scoped>\n",
       "    .dataframe tbody tr th:only-of-type {\n",
       "        vertical-align: middle;\n",
       "    }\n",
       "\n",
       "    .dataframe tbody tr th {\n",
       "        vertical-align: top;\n",
       "    }\n",
       "\n",
       "    .dataframe thead th {\n",
       "        text-align: right;\n",
       "    }\n",
       "</style>\n",
       "<table border=\"1\" class=\"dataframe\">\n",
       "  <thead>\n",
       "    <tr style=\"text-align: right;\">\n",
       "      <th></th>\n",
       "      <th>A</th>\n",
       "      <th>B</th>\n",
       "      <th>C</th>\n",
       "      <th>D</th>\n",
       "    </tr>\n",
       "  </thead>\n",
       "  <tbody>\n",
       "    <tr>\n",
       "      <th>2021-06-09</th>\n",
       "      <td>-0.550111</td>\n",
       "      <td>1.570150</td>\n",
       "      <td>-2.057431</td>\n",
       "      <td>0.058547</td>\n",
       "    </tr>\n",
       "    <tr>\n",
       "      <th>2021-06-10</th>\n",
       "      <td>-0.229350</td>\n",
       "      <td>1.626667</td>\n",
       "      <td>-1.697047</td>\n",
       "      <td>0.066035</td>\n",
       "    </tr>\n",
       "  </tbody>\n",
       "</table>\n",
       "</div>"
      ],
      "text/plain": [
       "                   A         B         C         D\n",
       "2021-06-09 -0.550111  1.570150 -2.057431  0.058547\n",
       "2021-06-10 -0.229350  1.626667 -1.697047  0.066035"
      ]
     },
     "execution_count": 10,
     "metadata": {},
     "output_type": "execute_result"
    }
   ],
   "source": [
    "df.head(2)"
   ]
  },
  {
   "cell_type": "code",
   "execution_count": 11,
   "id": "tested-performance",
   "metadata": {},
   "outputs": [
    {
     "data": {
      "text/html": [
       "<div>\n",
       "<style scoped>\n",
       "    .dataframe tbody tr th:only-of-type {\n",
       "        vertical-align: middle;\n",
       "    }\n",
       "\n",
       "    .dataframe tbody tr th {\n",
       "        vertical-align: top;\n",
       "    }\n",
       "\n",
       "    .dataframe thead th {\n",
       "        text-align: right;\n",
       "    }\n",
       "</style>\n",
       "<table border=\"1\" class=\"dataframe\">\n",
       "  <thead>\n",
       "    <tr style=\"text-align: right;\">\n",
       "      <th></th>\n",
       "      <th>A</th>\n",
       "      <th>B</th>\n",
       "      <th>C</th>\n",
       "      <th>D</th>\n",
       "    </tr>\n",
       "  </thead>\n",
       "  <tbody>\n",
       "    <tr>\n",
       "      <th>2021-06-12</th>\n",
       "      <td>-2.021212</td>\n",
       "      <td>-1.295692</td>\n",
       "      <td>-0.250714</td>\n",
       "      <td>0.624834</td>\n",
       "    </tr>\n",
       "    <tr>\n",
       "      <th>2021-06-13</th>\n",
       "      <td>-0.549771</td>\n",
       "      <td>0.551846</td>\n",
       "      <td>-0.103707</td>\n",
       "      <td>1.117387</td>\n",
       "    </tr>\n",
       "  </tbody>\n",
       "</table>\n",
       "</div>"
      ],
      "text/plain": [
       "                   A         B         C         D\n",
       "2021-06-12 -2.021212 -1.295692 -0.250714  0.624834\n",
       "2021-06-13 -0.549771  0.551846 -0.103707  1.117387"
      ]
     },
     "execution_count": 11,
     "metadata": {},
     "output_type": "execute_result"
    }
   ],
   "source": [
    "df.tail(2)"
   ]
  },
  {
   "cell_type": "code",
   "execution_count": 12,
   "id": "static-deficit",
   "metadata": {},
   "outputs": [
    {
     "data": {
      "text/plain": [
       "DatetimeIndex(['2021-06-09', '2021-06-10', '2021-06-11', '2021-06-12',\n",
       "               '2021-06-13'],\n",
       "              dtype='datetime64[ns]', freq='D')"
      ]
     },
     "execution_count": 12,
     "metadata": {},
     "output_type": "execute_result"
    }
   ],
   "source": [
    "df.index"
   ]
  },
  {
   "cell_type": "code",
   "execution_count": 13,
   "id": "systematic-unknown",
   "metadata": {},
   "outputs": [
    {
     "data": {
      "text/plain": [
       "Index(['A', 'B', 'C', 'D'], dtype='object')"
      ]
     },
     "execution_count": 13,
     "metadata": {},
     "output_type": "execute_result"
    }
   ],
   "source": [
    "df.columns"
   ]
  },
  {
   "cell_type": "code",
   "execution_count": 14,
   "id": "moderate-quantum",
   "metadata": {},
   "outputs": [
    {
     "data": {
      "text/plain": [
       "array([[-0.55011112,  1.57014963, -2.0574309 ,  0.05854695],\n",
       "       [-0.22935036,  1.62666732, -1.69704749,  0.06603463],\n",
       "       [-2.08205012, -0.03068951,  0.55181754,  0.08476421],\n",
       "       [-2.02121244, -1.29569224, -0.25071398,  0.62483441],\n",
       "       [-0.54977078,  0.5518464 , -0.10370718,  1.1173867 ]])"
      ]
     },
     "execution_count": 14,
     "metadata": {},
     "output_type": "execute_result"
    }
   ],
   "source": [
    "df.to_numpy()"
   ]
  },
  {
   "cell_type": "code",
   "execution_count": 15,
   "id": "formal-avatar",
   "metadata": {},
   "outputs": [
    {
     "data": {
      "text/html": [
       "<div>\n",
       "<style scoped>\n",
       "    .dataframe tbody tr th:only-of-type {\n",
       "        vertical-align: middle;\n",
       "    }\n",
       "\n",
       "    .dataframe tbody tr th {\n",
       "        vertical-align: top;\n",
       "    }\n",
       "\n",
       "    .dataframe thead th {\n",
       "        text-align: right;\n",
       "    }\n",
       "</style>\n",
       "<table border=\"1\" class=\"dataframe\">\n",
       "  <thead>\n",
       "    <tr style=\"text-align: right;\">\n",
       "      <th></th>\n",
       "      <th>A</th>\n",
       "      <th>B</th>\n",
       "      <th>C</th>\n",
       "      <th>D</th>\n",
       "    </tr>\n",
       "  </thead>\n",
       "  <tbody>\n",
       "    <tr>\n",
       "      <th>count</th>\n",
       "      <td>5.000000</td>\n",
       "      <td>5.000000</td>\n",
       "      <td>5.000000</td>\n",
       "      <td>5.000000</td>\n",
       "    </tr>\n",
       "    <tr>\n",
       "      <th>mean</th>\n",
       "      <td>-1.086499</td>\n",
       "      <td>0.484456</td>\n",
       "      <td>-0.711416</td>\n",
       "      <td>0.390313</td>\n",
       "    </tr>\n",
       "    <tr>\n",
       "      <th>std</th>\n",
       "      <td>0.890969</td>\n",
       "      <td>1.216781</td>\n",
       "      <td>1.113614</td>\n",
       "      <td>0.472287</td>\n",
       "    </tr>\n",
       "    <tr>\n",
       "      <th>min</th>\n",
       "      <td>-2.082050</td>\n",
       "      <td>-1.295692</td>\n",
       "      <td>-2.057431</td>\n",
       "      <td>0.058547</td>\n",
       "    </tr>\n",
       "    <tr>\n",
       "      <th>25%</th>\n",
       "      <td>-2.021212</td>\n",
       "      <td>-0.030690</td>\n",
       "      <td>-1.697047</td>\n",
       "      <td>0.066035</td>\n",
       "    </tr>\n",
       "    <tr>\n",
       "      <th>50%</th>\n",
       "      <td>-0.550111</td>\n",
       "      <td>0.551846</td>\n",
       "      <td>-0.250714</td>\n",
       "      <td>0.084764</td>\n",
       "    </tr>\n",
       "    <tr>\n",
       "      <th>75%</th>\n",
       "      <td>-0.549771</td>\n",
       "      <td>1.570150</td>\n",
       "      <td>-0.103707</td>\n",
       "      <td>0.624834</td>\n",
       "    </tr>\n",
       "    <tr>\n",
       "      <th>max</th>\n",
       "      <td>-0.229350</td>\n",
       "      <td>1.626667</td>\n",
       "      <td>0.551818</td>\n",
       "      <td>1.117387</td>\n",
       "    </tr>\n",
       "  </tbody>\n",
       "</table>\n",
       "</div>"
      ],
      "text/plain": [
       "              A         B         C         D\n",
       "count  5.000000  5.000000  5.000000  5.000000\n",
       "mean  -1.086499  0.484456 -0.711416  0.390313\n",
       "std    0.890969  1.216781  1.113614  0.472287\n",
       "min   -2.082050 -1.295692 -2.057431  0.058547\n",
       "25%   -2.021212 -0.030690 -1.697047  0.066035\n",
       "50%   -0.550111  0.551846 -0.250714  0.084764\n",
       "75%   -0.549771  1.570150 -0.103707  0.624834\n",
       "max   -0.229350  1.626667  0.551818  1.117387"
      ]
     },
     "execution_count": 15,
     "metadata": {},
     "output_type": "execute_result"
    }
   ],
   "source": [
    "df.describe()"
   ]
  },
  {
   "cell_type": "code",
   "execution_count": 16,
   "id": "british-mandate",
   "metadata": {},
   "outputs": [
    {
     "data": {
      "text/html": [
       "<div>\n",
       "<style scoped>\n",
       "    .dataframe tbody tr th:only-of-type {\n",
       "        vertical-align: middle;\n",
       "    }\n",
       "\n",
       "    .dataframe tbody tr th {\n",
       "        vertical-align: top;\n",
       "    }\n",
       "\n",
       "    .dataframe thead th {\n",
       "        text-align: right;\n",
       "    }\n",
       "</style>\n",
       "<table border=\"1\" class=\"dataframe\">\n",
       "  <thead>\n",
       "    <tr style=\"text-align: right;\">\n",
       "      <th></th>\n",
       "      <th>2021-06-09</th>\n",
       "      <th>2021-06-10</th>\n",
       "      <th>2021-06-11</th>\n",
       "      <th>2021-06-12</th>\n",
       "      <th>2021-06-13</th>\n",
       "    </tr>\n",
       "  </thead>\n",
       "  <tbody>\n",
       "    <tr>\n",
       "      <th>A</th>\n",
       "      <td>-0.550111</td>\n",
       "      <td>-0.229350</td>\n",
       "      <td>-2.082050</td>\n",
       "      <td>-2.021212</td>\n",
       "      <td>-0.549771</td>\n",
       "    </tr>\n",
       "    <tr>\n",
       "      <th>B</th>\n",
       "      <td>1.570150</td>\n",
       "      <td>1.626667</td>\n",
       "      <td>-0.030690</td>\n",
       "      <td>-1.295692</td>\n",
       "      <td>0.551846</td>\n",
       "    </tr>\n",
       "    <tr>\n",
       "      <th>C</th>\n",
       "      <td>-2.057431</td>\n",
       "      <td>-1.697047</td>\n",
       "      <td>0.551818</td>\n",
       "      <td>-0.250714</td>\n",
       "      <td>-0.103707</td>\n",
       "    </tr>\n",
       "    <tr>\n",
       "      <th>D</th>\n",
       "      <td>0.058547</td>\n",
       "      <td>0.066035</td>\n",
       "      <td>0.084764</td>\n",
       "      <td>0.624834</td>\n",
       "      <td>1.117387</td>\n",
       "    </tr>\n",
       "  </tbody>\n",
       "</table>\n",
       "</div>"
      ],
      "text/plain": [
       "   2021-06-09  2021-06-10  2021-06-11  2021-06-12  2021-06-13\n",
       "A   -0.550111   -0.229350   -2.082050   -2.021212   -0.549771\n",
       "B    1.570150    1.626667   -0.030690   -1.295692    0.551846\n",
       "C   -2.057431   -1.697047    0.551818   -0.250714   -0.103707\n",
       "D    0.058547    0.066035    0.084764    0.624834    1.117387"
      ]
     },
     "execution_count": 16,
     "metadata": {},
     "output_type": "execute_result"
    }
   ],
   "source": [
    "df.T"
   ]
  },
  {
   "cell_type": "code",
   "execution_count": 17,
   "id": "imperial-episode",
   "metadata": {},
   "outputs": [
    {
     "data": {
      "text/html": [
       "<div>\n",
       "<style scoped>\n",
       "    .dataframe tbody tr th:only-of-type {\n",
       "        vertical-align: middle;\n",
       "    }\n",
       "\n",
       "    .dataframe tbody tr th {\n",
       "        vertical-align: top;\n",
       "    }\n",
       "\n",
       "    .dataframe thead th {\n",
       "        text-align: right;\n",
       "    }\n",
       "</style>\n",
       "<table border=\"1\" class=\"dataframe\">\n",
       "  <thead>\n",
       "    <tr style=\"text-align: right;\">\n",
       "      <th></th>\n",
       "      <th>D</th>\n",
       "      <th>C</th>\n",
       "      <th>B</th>\n",
       "      <th>A</th>\n",
       "    </tr>\n",
       "  </thead>\n",
       "  <tbody>\n",
       "    <tr>\n",
       "      <th>2021-06-09</th>\n",
       "      <td>0.058547</td>\n",
       "      <td>-2.057431</td>\n",
       "      <td>1.570150</td>\n",
       "      <td>-0.550111</td>\n",
       "    </tr>\n",
       "    <tr>\n",
       "      <th>2021-06-10</th>\n",
       "      <td>0.066035</td>\n",
       "      <td>-1.697047</td>\n",
       "      <td>1.626667</td>\n",
       "      <td>-0.229350</td>\n",
       "    </tr>\n",
       "    <tr>\n",
       "      <th>2021-06-11</th>\n",
       "      <td>0.084764</td>\n",
       "      <td>0.551818</td>\n",
       "      <td>-0.030690</td>\n",
       "      <td>-2.082050</td>\n",
       "    </tr>\n",
       "    <tr>\n",
       "      <th>2021-06-12</th>\n",
       "      <td>0.624834</td>\n",
       "      <td>-0.250714</td>\n",
       "      <td>-1.295692</td>\n",
       "      <td>-2.021212</td>\n",
       "    </tr>\n",
       "    <tr>\n",
       "      <th>2021-06-13</th>\n",
       "      <td>1.117387</td>\n",
       "      <td>-0.103707</td>\n",
       "      <td>0.551846</td>\n",
       "      <td>-0.549771</td>\n",
       "    </tr>\n",
       "  </tbody>\n",
       "</table>\n",
       "</div>"
      ],
      "text/plain": [
       "                   D         C         B         A\n",
       "2021-06-09  0.058547 -2.057431  1.570150 -0.550111\n",
       "2021-06-10  0.066035 -1.697047  1.626667 -0.229350\n",
       "2021-06-11  0.084764  0.551818 -0.030690 -2.082050\n",
       "2021-06-12  0.624834 -0.250714 -1.295692 -2.021212\n",
       "2021-06-13  1.117387 -0.103707  0.551846 -0.549771"
      ]
     },
     "execution_count": 17,
     "metadata": {},
     "output_type": "execute_result"
    }
   ],
   "source": [
    "df.sort_index(axis = 1, ascending = False)"
   ]
  },
  {
   "cell_type": "code",
   "execution_count": 18,
   "id": "contained-cream",
   "metadata": {},
   "outputs": [
    {
     "data": {
      "text/html": [
       "<div>\n",
       "<style scoped>\n",
       "    .dataframe tbody tr th:only-of-type {\n",
       "        vertical-align: middle;\n",
       "    }\n",
       "\n",
       "    .dataframe tbody tr th {\n",
       "        vertical-align: top;\n",
       "    }\n",
       "\n",
       "    .dataframe thead th {\n",
       "        text-align: right;\n",
       "    }\n",
       "</style>\n",
       "<table border=\"1\" class=\"dataframe\">\n",
       "  <thead>\n",
       "    <tr style=\"text-align: right;\">\n",
       "      <th></th>\n",
       "      <th>A</th>\n",
       "      <th>B</th>\n",
       "      <th>C</th>\n",
       "      <th>D</th>\n",
       "    </tr>\n",
       "  </thead>\n",
       "  <tbody>\n",
       "    <tr>\n",
       "      <th>2021-06-12</th>\n",
       "      <td>-2.021212</td>\n",
       "      <td>-1.295692</td>\n",
       "      <td>-0.250714</td>\n",
       "      <td>0.624834</td>\n",
       "    </tr>\n",
       "    <tr>\n",
       "      <th>2021-06-11</th>\n",
       "      <td>-2.082050</td>\n",
       "      <td>-0.030690</td>\n",
       "      <td>0.551818</td>\n",
       "      <td>0.084764</td>\n",
       "    </tr>\n",
       "    <tr>\n",
       "      <th>2021-06-13</th>\n",
       "      <td>-0.549771</td>\n",
       "      <td>0.551846</td>\n",
       "      <td>-0.103707</td>\n",
       "      <td>1.117387</td>\n",
       "    </tr>\n",
       "    <tr>\n",
       "      <th>2021-06-09</th>\n",
       "      <td>-0.550111</td>\n",
       "      <td>1.570150</td>\n",
       "      <td>-2.057431</td>\n",
       "      <td>0.058547</td>\n",
       "    </tr>\n",
       "    <tr>\n",
       "      <th>2021-06-10</th>\n",
       "      <td>-0.229350</td>\n",
       "      <td>1.626667</td>\n",
       "      <td>-1.697047</td>\n",
       "      <td>0.066035</td>\n",
       "    </tr>\n",
       "  </tbody>\n",
       "</table>\n",
       "</div>"
      ],
      "text/plain": [
       "                   A         B         C         D\n",
       "2021-06-12 -2.021212 -1.295692 -0.250714  0.624834\n",
       "2021-06-11 -2.082050 -0.030690  0.551818  0.084764\n",
       "2021-06-13 -0.549771  0.551846 -0.103707  1.117387\n",
       "2021-06-09 -0.550111  1.570150 -2.057431  0.058547\n",
       "2021-06-10 -0.229350  1.626667 -1.697047  0.066035"
      ]
     },
     "execution_count": 18,
     "metadata": {},
     "output_type": "execute_result"
    }
   ],
   "source": [
    "df.sort_values(by = 'B')"
   ]
  },
  {
   "cell_type": "code",
   "execution_count": 19,
   "id": "supreme-bedroom",
   "metadata": {},
   "outputs": [
    {
     "data": {
      "text/plain": [
       "2021-06-09   -2.057431\n",
       "2021-06-10   -1.697047\n",
       "2021-06-11    0.551818\n",
       "2021-06-12   -0.250714\n",
       "2021-06-13   -0.103707\n",
       "Freq: D, Name: C, dtype: float64"
      ]
     },
     "execution_count": 19,
     "metadata": {},
     "output_type": "execute_result"
    }
   ],
   "source": [
    "df['C']"
   ]
  },
  {
   "cell_type": "code",
   "execution_count": 20,
   "id": "mexican-estonia",
   "metadata": {},
   "outputs": [
    {
     "data": {
      "text/html": [
       "<div>\n",
       "<style scoped>\n",
       "    .dataframe tbody tr th:only-of-type {\n",
       "        vertical-align: middle;\n",
       "    }\n",
       "\n",
       "    .dataframe tbody tr th {\n",
       "        vertical-align: top;\n",
       "    }\n",
       "\n",
       "    .dataframe thead th {\n",
       "        text-align: right;\n",
       "    }\n",
       "</style>\n",
       "<table border=\"1\" class=\"dataframe\">\n",
       "  <thead>\n",
       "    <tr style=\"text-align: right;\">\n",
       "      <th></th>\n",
       "      <th>A</th>\n",
       "      <th>B</th>\n",
       "      <th>C</th>\n",
       "      <th>D</th>\n",
       "    </tr>\n",
       "  </thead>\n",
       "  <tbody>\n",
       "    <tr>\n",
       "      <th>2021-06-09</th>\n",
       "      <td>-0.550111</td>\n",
       "      <td>1.570150</td>\n",
       "      <td>-2.057431</td>\n",
       "      <td>0.058547</td>\n",
       "    </tr>\n",
       "    <tr>\n",
       "      <th>2021-06-10</th>\n",
       "      <td>-0.229350</td>\n",
       "      <td>1.626667</td>\n",
       "      <td>-1.697047</td>\n",
       "      <td>0.066035</td>\n",
       "    </tr>\n",
       "    <tr>\n",
       "      <th>2021-06-11</th>\n",
       "      <td>-2.082050</td>\n",
       "      <td>-0.030690</td>\n",
       "      <td>0.551818</td>\n",
       "      <td>0.084764</td>\n",
       "    </tr>\n",
       "  </tbody>\n",
       "</table>\n",
       "</div>"
      ],
      "text/plain": [
       "                   A         B         C         D\n",
       "2021-06-09 -0.550111  1.570150 -2.057431  0.058547\n",
       "2021-06-10 -0.229350  1.626667 -1.697047  0.066035\n",
       "2021-06-11 -2.082050 -0.030690  0.551818  0.084764"
      ]
     },
     "execution_count": 20,
     "metadata": {},
     "output_type": "execute_result"
    }
   ],
   "source": [
    "df[0:3]"
   ]
  },
  {
   "cell_type": "code",
   "execution_count": 21,
   "id": "conservative-keeping",
   "metadata": {},
   "outputs": [
    {
     "data": {
      "text/html": [
       "<div>\n",
       "<style scoped>\n",
       "    .dataframe tbody tr th:only-of-type {\n",
       "        vertical-align: middle;\n",
       "    }\n",
       "\n",
       "    .dataframe tbody tr th {\n",
       "        vertical-align: top;\n",
       "    }\n",
       "\n",
       "    .dataframe thead th {\n",
       "        text-align: right;\n",
       "    }\n",
       "</style>\n",
       "<table border=\"1\" class=\"dataframe\">\n",
       "  <thead>\n",
       "    <tr style=\"text-align: right;\">\n",
       "      <th></th>\n",
       "      <th>A</th>\n",
       "      <th>B</th>\n",
       "      <th>C</th>\n",
       "      <th>D</th>\n",
       "    </tr>\n",
       "  </thead>\n",
       "  <tbody>\n",
       "    <tr>\n",
       "      <th>2021-06-10</th>\n",
       "      <td>-0.22935</td>\n",
       "      <td>1.626667</td>\n",
       "      <td>-1.697047</td>\n",
       "      <td>0.066035</td>\n",
       "    </tr>\n",
       "    <tr>\n",
       "      <th>2021-06-11</th>\n",
       "      <td>-2.08205</td>\n",
       "      <td>-0.030690</td>\n",
       "      <td>0.551818</td>\n",
       "      <td>0.084764</td>\n",
       "    </tr>\n",
       "  </tbody>\n",
       "</table>\n",
       "</div>"
      ],
      "text/plain": [
       "                  A         B         C         D\n",
       "2021-06-10 -0.22935  1.626667 -1.697047  0.066035\n",
       "2021-06-11 -2.08205 -0.030690  0.551818  0.084764"
      ]
     },
     "execution_count": 21,
     "metadata": {},
     "output_type": "execute_result"
    }
   ],
   "source": [
    "df['20210610':'20210611']"
   ]
  },
  {
   "cell_type": "code",
   "execution_count": 23,
   "id": "significant-collaboration",
   "metadata": {},
   "outputs": [
    {
     "data": {
      "text/plain": [
       "A   -0.550111\n",
       "B    1.570150\n",
       "C   -2.057431\n",
       "D    0.058547\n",
       "Name: 2021-06-09 00:00:00, dtype: float64"
      ]
     },
     "execution_count": 23,
     "metadata": {},
     "output_type": "execute_result"
    }
   ],
   "source": [
    "df.loc[dates[0]]"
   ]
  },
  {
   "cell_type": "code",
   "execution_count": 24,
   "id": "automotive-computer",
   "metadata": {},
   "outputs": [
    {
     "data": {
      "text/html": [
       "<div>\n",
       "<style scoped>\n",
       "    .dataframe tbody tr th:only-of-type {\n",
       "        vertical-align: middle;\n",
       "    }\n",
       "\n",
       "    .dataframe tbody tr th {\n",
       "        vertical-align: top;\n",
       "    }\n",
       "\n",
       "    .dataframe thead th {\n",
       "        text-align: right;\n",
       "    }\n",
       "</style>\n",
       "<table border=\"1\" class=\"dataframe\">\n",
       "  <thead>\n",
       "    <tr style=\"text-align: right;\">\n",
       "      <th></th>\n",
       "      <th>A</th>\n",
       "      <th>B</th>\n",
       "    </tr>\n",
       "  </thead>\n",
       "  <tbody>\n",
       "    <tr>\n",
       "      <th>2021-06-09</th>\n",
       "      <td>-0.550111</td>\n",
       "      <td>1.570150</td>\n",
       "    </tr>\n",
       "    <tr>\n",
       "      <th>2021-06-10</th>\n",
       "      <td>-0.229350</td>\n",
       "      <td>1.626667</td>\n",
       "    </tr>\n",
       "    <tr>\n",
       "      <th>2021-06-11</th>\n",
       "      <td>-2.082050</td>\n",
       "      <td>-0.030690</td>\n",
       "    </tr>\n",
       "    <tr>\n",
       "      <th>2021-06-12</th>\n",
       "      <td>-2.021212</td>\n",
       "      <td>-1.295692</td>\n",
       "    </tr>\n",
       "    <tr>\n",
       "      <th>2021-06-13</th>\n",
       "      <td>-0.549771</td>\n",
       "      <td>0.551846</td>\n",
       "    </tr>\n",
       "  </tbody>\n",
       "</table>\n",
       "</div>"
      ],
      "text/plain": [
       "                   A         B\n",
       "2021-06-09 -0.550111  1.570150\n",
       "2021-06-10 -0.229350  1.626667\n",
       "2021-06-11 -2.082050 -0.030690\n",
       "2021-06-12 -2.021212 -1.295692\n",
       "2021-06-13 -0.549771  0.551846"
      ]
     },
     "execution_count": 24,
     "metadata": {},
     "output_type": "execute_result"
    }
   ],
   "source": [
    "df.loc[:, ['A', 'B']]"
   ]
  },
  {
   "cell_type": "code",
   "execution_count": 25,
   "id": "passing-writer",
   "metadata": {},
   "outputs": [
    {
     "data": {
      "text/html": [
       "<div>\n",
       "<style scoped>\n",
       "    .dataframe tbody tr th:only-of-type {\n",
       "        vertical-align: middle;\n",
       "    }\n",
       "\n",
       "    .dataframe tbody tr th {\n",
       "        vertical-align: top;\n",
       "    }\n",
       "\n",
       "    .dataframe thead th {\n",
       "        text-align: right;\n",
       "    }\n",
       "</style>\n",
       "<table border=\"1\" class=\"dataframe\">\n",
       "  <thead>\n",
       "    <tr style=\"text-align: right;\">\n",
       "      <th></th>\n",
       "      <th>A</th>\n",
       "      <th>C</th>\n",
       "    </tr>\n",
       "  </thead>\n",
       "  <tbody>\n",
       "    <tr>\n",
       "      <th>2021-06-09</th>\n",
       "      <td>-0.550111</td>\n",
       "      <td>-2.057431</td>\n",
       "    </tr>\n",
       "    <tr>\n",
       "      <th>2021-06-10</th>\n",
       "      <td>-0.229350</td>\n",
       "      <td>-1.697047</td>\n",
       "    </tr>\n",
       "    <tr>\n",
       "      <th>2021-06-11</th>\n",
       "      <td>-2.082050</td>\n",
       "      <td>0.551818</td>\n",
       "    </tr>\n",
       "  </tbody>\n",
       "</table>\n",
       "</div>"
      ],
      "text/plain": [
       "                   A         C\n",
       "2021-06-09 -0.550111 -2.057431\n",
       "2021-06-10 -0.229350 -1.697047\n",
       "2021-06-11 -2.082050  0.551818"
      ]
     },
     "execution_count": 25,
     "metadata": {},
     "output_type": "execute_result"
    }
   ],
   "source": [
    "df.loc['20210609':'20210611',['A', 'C']]"
   ]
  },
  {
   "cell_type": "code",
   "execution_count": 26,
   "id": "consecutive-cloud",
   "metadata": {},
   "outputs": [
    {
     "data": {
      "text/plain": [
       "A   -2.021212\n",
       "B   -1.295692\n",
       "C   -0.250714\n",
       "D    0.624834\n",
       "Name: 2021-06-12 00:00:00, dtype: float64"
      ]
     },
     "execution_count": 26,
     "metadata": {},
     "output_type": "execute_result"
    }
   ],
   "source": [
    "df.iloc[3]"
   ]
  },
  {
   "cell_type": "code",
   "execution_count": 28,
   "id": "celtic-distribution",
   "metadata": {},
   "outputs": [
    {
     "data": {
      "text/html": [
       "<div>\n",
       "<style scoped>\n",
       "    .dataframe tbody tr th:only-of-type {\n",
       "        vertical-align: middle;\n",
       "    }\n",
       "\n",
       "    .dataframe tbody tr th {\n",
       "        vertical-align: top;\n",
       "    }\n",
       "\n",
       "    .dataframe thead th {\n",
       "        text-align: right;\n",
       "    }\n",
       "</style>\n",
       "<table border=\"1\" class=\"dataframe\">\n",
       "  <thead>\n",
       "    <tr style=\"text-align: right;\">\n",
       "      <th></th>\n",
       "      <th>A</th>\n",
       "      <th>B</th>\n",
       "      <th>C</th>\n",
       "    </tr>\n",
       "  </thead>\n",
       "  <tbody>\n",
       "    <tr>\n",
       "      <th>2021-06-11</th>\n",
       "      <td>-2.082050</td>\n",
       "      <td>-0.030690</td>\n",
       "      <td>0.551818</td>\n",
       "    </tr>\n",
       "    <tr>\n",
       "      <th>2021-06-12</th>\n",
       "      <td>-2.021212</td>\n",
       "      <td>-1.295692</td>\n",
       "      <td>-0.250714</td>\n",
       "    </tr>\n",
       "  </tbody>\n",
       "</table>\n",
       "</div>"
      ],
      "text/plain": [
       "                   A         B         C\n",
       "2021-06-11 -2.082050 -0.030690  0.551818\n",
       "2021-06-12 -2.021212 -1.295692 -0.250714"
      ]
     },
     "execution_count": 28,
     "metadata": {},
     "output_type": "execute_result"
    }
   ],
   "source": [
    "df.iloc[2:4,0:3]"
   ]
  },
  {
   "cell_type": "markdown",
   "id": "congressional-luxury",
   "metadata": {},
   "source": [
    "Boolean Indexing"
   ]
  },
  {
   "cell_type": "code",
   "execution_count": 29,
   "id": "upset-nightlife",
   "metadata": {},
   "outputs": [
    {
     "data": {
      "text/html": [
       "<div>\n",
       "<style scoped>\n",
       "    .dataframe tbody tr th:only-of-type {\n",
       "        vertical-align: middle;\n",
       "    }\n",
       "\n",
       "    .dataframe tbody tr th {\n",
       "        vertical-align: top;\n",
       "    }\n",
       "\n",
       "    .dataframe thead th {\n",
       "        text-align: right;\n",
       "    }\n",
       "</style>\n",
       "<table border=\"1\" class=\"dataframe\">\n",
       "  <thead>\n",
       "    <tr style=\"text-align: right;\">\n",
       "      <th></th>\n",
       "      <th>A</th>\n",
       "      <th>B</th>\n",
       "      <th>C</th>\n",
       "      <th>D</th>\n",
       "    </tr>\n",
       "  </thead>\n",
       "  <tbody>\n",
       "  </tbody>\n",
       "</table>\n",
       "</div>"
      ],
      "text/plain": [
       "Empty DataFrame\n",
       "Columns: [A, B, C, D]\n",
       "Index: []"
      ]
     },
     "execution_count": 29,
     "metadata": {},
     "output_type": "execute_result"
    }
   ],
   "source": [
    "df[df.A > 0]"
   ]
  },
  {
   "cell_type": "code",
   "execution_count": 30,
   "id": "varied-melissa",
   "metadata": {},
   "outputs": [
    {
     "data": {
      "text/plain": [
       "2021-06-09   -0.550111\n",
       "2021-06-10   -0.229350\n",
       "2021-06-11   -2.082050\n",
       "2021-06-12   -2.021212\n",
       "2021-06-13   -0.549771\n",
       "Freq: D, Name: A, dtype: float64"
      ]
     },
     "execution_count": 30,
     "metadata": {},
     "output_type": "execute_result"
    }
   ],
   "source": [
    "df.A"
   ]
  },
  {
   "cell_type": "code",
   "execution_count": 32,
   "id": "female-orlando",
   "metadata": {},
   "outputs": [
    {
     "data": {
      "text/html": [
       "<div>\n",
       "<style scoped>\n",
       "    .dataframe tbody tr th:only-of-type {\n",
       "        vertical-align: middle;\n",
       "    }\n",
       "\n",
       "    .dataframe tbody tr th {\n",
       "        vertical-align: top;\n",
       "    }\n",
       "\n",
       "    .dataframe thead th {\n",
       "        text-align: right;\n",
       "    }\n",
       "</style>\n",
       "<table border=\"1\" class=\"dataframe\">\n",
       "  <thead>\n",
       "    <tr style=\"text-align: right;\">\n",
       "      <th></th>\n",
       "      <th>A</th>\n",
       "      <th>B</th>\n",
       "      <th>C</th>\n",
       "      <th>D</th>\n",
       "    </tr>\n",
       "  </thead>\n",
       "  <tbody>\n",
       "    <tr>\n",
       "      <th>2021-06-09</th>\n",
       "      <td>-0.550111</td>\n",
       "      <td>1.570150</td>\n",
       "      <td>-2.057431</td>\n",
       "      <td>0.058547</td>\n",
       "    </tr>\n",
       "    <tr>\n",
       "      <th>2021-06-10</th>\n",
       "      <td>-0.229350</td>\n",
       "      <td>1.626667</td>\n",
       "      <td>-1.697047</td>\n",
       "      <td>0.066035</td>\n",
       "    </tr>\n",
       "    <tr>\n",
       "      <th>2021-06-11</th>\n",
       "      <td>-2.082050</td>\n",
       "      <td>-0.030690</td>\n",
       "      <td>0.551818</td>\n",
       "      <td>0.084764</td>\n",
       "    </tr>\n",
       "    <tr>\n",
       "      <th>2021-06-12</th>\n",
       "      <td>-2.021212</td>\n",
       "      <td>-1.295692</td>\n",
       "      <td>-0.250714</td>\n",
       "      <td>0.624834</td>\n",
       "    </tr>\n",
       "    <tr>\n",
       "      <th>2021-06-13</th>\n",
       "      <td>-0.549771</td>\n",
       "      <td>0.551846</td>\n",
       "      <td>-0.103707</td>\n",
       "      <td>1.117387</td>\n",
       "    </tr>\n",
       "  </tbody>\n",
       "</table>\n",
       "</div>"
      ],
      "text/plain": [
       "                   A         B         C         D\n",
       "2021-06-09 -0.550111  1.570150 -2.057431  0.058547\n",
       "2021-06-10 -0.229350  1.626667 -1.697047  0.066035\n",
       "2021-06-11 -2.082050 -0.030690  0.551818  0.084764\n",
       "2021-06-12 -2.021212 -1.295692 -0.250714  0.624834\n",
       "2021-06-13 -0.549771  0.551846 -0.103707  1.117387"
      ]
     },
     "execution_count": 32,
     "metadata": {},
     "output_type": "execute_result"
    }
   ],
   "source": [
    "df[df.A < 0]"
   ]
  },
  {
   "cell_type": "code",
   "execution_count": 36,
   "id": "celtic-shelf",
   "metadata": {},
   "outputs": [
    {
     "data": {
      "text/html": [
       "<div>\n",
       "<style scoped>\n",
       "    .dataframe tbody tr th:only-of-type {\n",
       "        vertical-align: middle;\n",
       "    }\n",
       "\n",
       "    .dataframe tbody tr th {\n",
       "        vertical-align: top;\n",
       "    }\n",
       "\n",
       "    .dataframe thead th {\n",
       "        text-align: right;\n",
       "    }\n",
       "</style>\n",
       "<table border=\"1\" class=\"dataframe\">\n",
       "  <thead>\n",
       "    <tr style=\"text-align: right;\">\n",
       "      <th></th>\n",
       "      <th>A</th>\n",
       "      <th>B</th>\n",
       "      <th>C</th>\n",
       "      <th>D</th>\n",
       "    </tr>\n",
       "  </thead>\n",
       "  <tbody>\n",
       "    <tr>\n",
       "      <th>2021-06-09</th>\n",
       "      <td>False</td>\n",
       "      <td>False</td>\n",
       "      <td>False</td>\n",
       "      <td>False</td>\n",
       "    </tr>\n",
       "    <tr>\n",
       "      <th>2021-06-10</th>\n",
       "      <td>False</td>\n",
       "      <td>False</td>\n",
       "      <td>False</td>\n",
       "      <td>False</td>\n",
       "    </tr>\n",
       "    <tr>\n",
       "      <th>2021-06-11</th>\n",
       "      <td>False</td>\n",
       "      <td>False</td>\n",
       "      <td>False</td>\n",
       "      <td>False</td>\n",
       "    </tr>\n",
       "    <tr>\n",
       "      <th>2021-06-12</th>\n",
       "      <td>False</td>\n",
       "      <td>False</td>\n",
       "      <td>False</td>\n",
       "      <td>False</td>\n",
       "    </tr>\n",
       "    <tr>\n",
       "      <th>2021-06-13</th>\n",
       "      <td>False</td>\n",
       "      <td>False</td>\n",
       "      <td>False</td>\n",
       "      <td>False</td>\n",
       "    </tr>\n",
       "  </tbody>\n",
       "</table>\n",
       "</div>"
      ],
      "text/plain": [
       "                A      B      C      D\n",
       "2021-06-09  False  False  False  False\n",
       "2021-06-10  False  False  False  False\n",
       "2021-06-11  False  False  False  False\n",
       "2021-06-12  False  False  False  False\n",
       "2021-06-13  False  False  False  False"
      ]
     },
     "execution_count": 36,
     "metadata": {},
     "output_type": "execute_result"
    }
   ],
   "source": [
    "df.isnull()"
   ]
  },
  {
   "cell_type": "code",
   "execution_count": 38,
   "id": "toxic-scholarship",
   "metadata": {},
   "outputs": [
    {
     "data": {
      "text/html": [
       "<div>\n",
       "<style scoped>\n",
       "    .dataframe tbody tr th:only-of-type {\n",
       "        vertical-align: middle;\n",
       "    }\n",
       "\n",
       "    .dataframe tbody tr th {\n",
       "        vertical-align: top;\n",
       "    }\n",
       "\n",
       "    .dataframe thead th {\n",
       "        text-align: right;\n",
       "    }\n",
       "</style>\n",
       "<table border=\"1\" class=\"dataframe\">\n",
       "  <thead>\n",
       "    <tr style=\"text-align: right;\">\n",
       "      <th></th>\n",
       "      <th>A</th>\n",
       "      <th>B</th>\n",
       "      <th>C</th>\n",
       "      <th>D</th>\n",
       "    </tr>\n",
       "  </thead>\n",
       "  <tbody>\n",
       "    <tr>\n",
       "      <th>2021-06-09</th>\n",
       "      <td>False</td>\n",
       "      <td>False</td>\n",
       "      <td>False</td>\n",
       "      <td>False</td>\n",
       "    </tr>\n",
       "    <tr>\n",
       "      <th>2021-06-10</th>\n",
       "      <td>False</td>\n",
       "      <td>False</td>\n",
       "      <td>False</td>\n",
       "      <td>False</td>\n",
       "    </tr>\n",
       "    <tr>\n",
       "      <th>2021-06-11</th>\n",
       "      <td>False</td>\n",
       "      <td>False</td>\n",
       "      <td>False</td>\n",
       "      <td>False</td>\n",
       "    </tr>\n",
       "    <tr>\n",
       "      <th>2021-06-12</th>\n",
       "      <td>False</td>\n",
       "      <td>False</td>\n",
       "      <td>False</td>\n",
       "      <td>False</td>\n",
       "    </tr>\n",
       "    <tr>\n",
       "      <th>2021-06-13</th>\n",
       "      <td>False</td>\n",
       "      <td>False</td>\n",
       "      <td>False</td>\n",
       "      <td>False</td>\n",
       "    </tr>\n",
       "  </tbody>\n",
       "</table>\n",
       "</div>"
      ],
      "text/plain": [
       "                A      B      C      D\n",
       "2021-06-09  False  False  False  False\n",
       "2021-06-10  False  False  False  False\n",
       "2021-06-11  False  False  False  False\n",
       "2021-06-12  False  False  False  False\n",
       "2021-06-13  False  False  False  False"
      ]
     },
     "execution_count": 38,
     "metadata": {},
     "output_type": "execute_result"
    }
   ],
   "source": [
    "df.isna()"
   ]
  },
  {
   "cell_type": "code",
   "execution_count": 39,
   "id": "answering-apartment",
   "metadata": {},
   "outputs": [
    {
     "data": {
      "text/plain": [
       "A   -1.086499\n",
       "B    0.484456\n",
       "C   -0.711416\n",
       "D    0.390313\n",
       "dtype: float64"
      ]
     },
     "execution_count": 39,
     "metadata": {},
     "output_type": "execute_result"
    }
   ],
   "source": [
    "df.mean()"
   ]
  },
  {
   "cell_type": "code",
   "execution_count": 40,
   "id": "studied-spare",
   "metadata": {},
   "outputs": [
    {
     "data": {
      "text/plain": [
       "A   -0.550111\n",
       "B    0.551846\n",
       "C   -0.250714\n",
       "D    0.084764\n",
       "dtype: float64"
      ]
     },
     "execution_count": 40,
     "metadata": {},
     "output_type": "execute_result"
    }
   ],
   "source": [
    "df.median()"
   ]
  },
  {
   "cell_type": "code",
   "execution_count": 41,
   "id": "eastern-virginia",
   "metadata": {},
   "outputs": [],
   "source": [
    "df.to_json('new.json')"
   ]
  },
  {
   "cell_type": "code",
   "execution_count": 42,
   "id": "lyric-wright",
   "metadata": {},
   "outputs": [
    {
     "name": "stdout",
     "output_type": "stream",
     "text": [
      " Volume in drive C has no label.\n",
      " Volume Serial Number is EEB2-37E3\n",
      "\n",
      " Directory of C:\\Users\\Admin\\Documents\\GettingStartedWithML\\18_pandas\n",
      "\n",
      "09-06-2021  00:57    <DIR>          .\n",
      "09-06-2021  00:57    <DIR>          ..\n",
      "09-06-2021  00:36    <DIR>          .ipynb_checkpoints\n",
      "09-06-2021  00:57               612 new.json\n",
      "09-06-2021  00:56            45,916 Pandas_Walkthrough.ipynb\n",
      "               2 File(s)         46,528 bytes\n",
      "               3 Dir(s)  213,180,919,808 bytes free\n"
     ]
    }
   ],
   "source": [
    "ls"
   ]
  },
  {
   "cell_type": "code",
   "execution_count": 43,
   "id": "mathematical-texas",
   "metadata": {},
   "outputs": [],
   "source": [
    "df.to_csv('newcsv.csv')"
   ]
  },
  {
   "cell_type": "code",
   "execution_count": 44,
   "id": "compact-connection",
   "metadata": {
    "scrolled": true
   },
   "outputs": [
    {
     "name": "stdout",
     "output_type": "stream",
     "text": [
      " Volume in drive C has no label.\n",
      " Volume Serial Number is EEB2-37E3\n",
      "\n",
      " Directory of C:\\Users\\Admin\\Documents\\GettingStartedWithML\\18_pandas\n",
      "\n",
      "09-06-2021  00:58    <DIR>          .\n",
      "09-06-2021  00:58    <DIR>          ..\n",
      "09-06-2021  00:36    <DIR>          .ipynb_checkpoints\n",
      "09-06-2021  00:57               612 new.json\n",
      "09-06-2021  00:58               466 newcsv.csv\n",
      "09-06-2021  00:56            45,916 Pandas_Walkthrough.ipynb\n",
      "               3 File(s)         46,994 bytes\n",
      "               3 Dir(s)  213,167,484,928 bytes free\n"
     ]
    }
   ],
   "source": [
    "ls"
   ]
  },
  {
   "cell_type": "code",
   "execution_count": 45,
   "id": "inclusive-toronto",
   "metadata": {},
   "outputs": [],
   "source": [
    "csv_data = pd.read_csv('newcsv.csv')"
   ]
  },
  {
   "cell_type": "code",
   "execution_count": 46,
   "id": "dirty-lewis",
   "metadata": {},
   "outputs": [
    {
     "data": {
      "text/html": [
       "<div>\n",
       "<style scoped>\n",
       "    .dataframe tbody tr th:only-of-type {\n",
       "        vertical-align: middle;\n",
       "    }\n",
       "\n",
       "    .dataframe tbody tr th {\n",
       "        vertical-align: top;\n",
       "    }\n",
       "\n",
       "    .dataframe thead th {\n",
       "        text-align: right;\n",
       "    }\n",
       "</style>\n",
       "<table border=\"1\" class=\"dataframe\">\n",
       "  <thead>\n",
       "    <tr style=\"text-align: right;\">\n",
       "      <th></th>\n",
       "      <th>Unnamed: 0</th>\n",
       "      <th>A</th>\n",
       "      <th>B</th>\n",
       "      <th>C</th>\n",
       "      <th>D</th>\n",
       "    </tr>\n",
       "  </thead>\n",
       "  <tbody>\n",
       "    <tr>\n",
       "      <th>0</th>\n",
       "      <td>2021-06-09</td>\n",
       "      <td>-0.550111</td>\n",
       "      <td>1.570150</td>\n",
       "      <td>-2.057431</td>\n",
       "      <td>0.058547</td>\n",
       "    </tr>\n",
       "    <tr>\n",
       "      <th>1</th>\n",
       "      <td>2021-06-10</td>\n",
       "      <td>-0.229350</td>\n",
       "      <td>1.626667</td>\n",
       "      <td>-1.697047</td>\n",
       "      <td>0.066035</td>\n",
       "    </tr>\n",
       "    <tr>\n",
       "      <th>2</th>\n",
       "      <td>2021-06-11</td>\n",
       "      <td>-2.082050</td>\n",
       "      <td>-0.030690</td>\n",
       "      <td>0.551818</td>\n",
       "      <td>0.084764</td>\n",
       "    </tr>\n",
       "    <tr>\n",
       "      <th>3</th>\n",
       "      <td>2021-06-12</td>\n",
       "      <td>-2.021212</td>\n",
       "      <td>-1.295692</td>\n",
       "      <td>-0.250714</td>\n",
       "      <td>0.624834</td>\n",
       "    </tr>\n",
       "    <tr>\n",
       "      <th>4</th>\n",
       "      <td>2021-06-13</td>\n",
       "      <td>-0.549771</td>\n",
       "      <td>0.551846</td>\n",
       "      <td>-0.103707</td>\n",
       "      <td>1.117387</td>\n",
       "    </tr>\n",
       "  </tbody>\n",
       "</table>\n",
       "</div>"
      ],
      "text/plain": [
       "   Unnamed: 0         A         B         C         D\n",
       "0  2021-06-09 -0.550111  1.570150 -2.057431  0.058547\n",
       "1  2021-06-10 -0.229350  1.626667 -1.697047  0.066035\n",
       "2  2021-06-11 -2.082050 -0.030690  0.551818  0.084764\n",
       "3  2021-06-12 -2.021212 -1.295692 -0.250714  0.624834\n",
       "4  2021-06-13 -0.549771  0.551846 -0.103707  1.117387"
      ]
     },
     "execution_count": 46,
     "metadata": {},
     "output_type": "execute_result"
    }
   ],
   "source": [
    "csv_data"
   ]
  },
  {
   "cell_type": "code",
   "execution_count": null,
   "id": "afraid-tissue",
   "metadata": {},
   "outputs": [],
   "source": []
  }
 ],
 "metadata": {
  "kernelspec": {
   "display_name": "Python 3",
   "language": "python",
   "name": "python3"
  },
  "language_info": {
   "codemirror_mode": {
    "name": "ipython",
    "version": 3
   },
   "file_extension": ".py",
   "mimetype": "text/x-python",
   "name": "python",
   "nbconvert_exporter": "python",
   "pygments_lexer": "ipython3",
   "version": "3.7.0"
  }
 },
 "nbformat": 4,
 "nbformat_minor": 5
}
