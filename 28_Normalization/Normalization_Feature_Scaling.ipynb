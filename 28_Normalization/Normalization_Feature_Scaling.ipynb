{
 "cells": [
  {
   "cell_type": "markdown",
   "id": "palestinian-landing",
   "metadata": {},
   "source": [
    "Normalization is Feature Scaling Procedure in Machine Learning."
   ]
  },
  {
   "cell_type": "markdown",
   "id": "auburn-timeline",
   "metadata": {},
   "source": [
    "Problem 1 ~ The problem of varying metric units causes issues with Data Inference Interpretability.<br>\n",
    "<i>A great example can be given as single dataset having values like kilometers and meters in same dataset.</i>"
   ]
  },
  {
   "cell_type": "markdown",
   "id": "blessed-concern",
   "metadata": {},
   "source": [
    "Problem 2 ~ Second consideration is large magnitudes. Very large values are hard for algorithm to handle."
   ]
  },
  {
   "cell_type": "markdown",
   "id": "knowing-reach",
   "metadata": {},
   "source": [
    "Using Normalization should be done where there are distance measures and loss optimizers involved."
   ]
  },
  {
   "cell_type": "markdown",
   "id": "referenced-chocolate",
   "metadata": {},
   "source": [
    "<b>The formula for Normalization is given by : </b> $$   X_{Normalized} = \\frac{X-X_{minimum}}{X_{maximum}-X_{minimum}} $$"
   ]
  },
  {
   "cell_type": "markdown",
   "id": "expanded-tyler",
   "metadata": {},
   "source": [
    "The normalized values will always range between 0 to 1"
   ]
  },
  {
   "cell_type": "code",
   "execution_count": 2,
   "id": "vocational-fetish",
   "metadata": {},
   "outputs": [],
   "source": [
    "from sklearn.datasets import load_breast_cancer\n",
    "data = load_breast_cancer()"
   ]
  },
  {
   "cell_type": "code",
   "execution_count": 3,
   "id": "environmental-native",
   "metadata": {},
   "outputs": [
    {
     "name": "stderr",
     "output_type": "stream",
     "text": [
      "c:\\users\\admin\\appdata\\local\\programs\\python\\python37\\lib\\importlib\\_bootstrap.py:219: RuntimeWarning: numpy.ufunc size changed, may indicate binary incompatibility. Expected 192 from C header, got 216 from PyObject\n",
      "  return f(*args, **kwds)\n"
     ]
    }
   ],
   "source": [
    "import pandas as pd"
   ]
  },
  {
   "cell_type": "code",
   "execution_count": 5,
   "id": "mediterranean-cinema",
   "metadata": {},
   "outputs": [],
   "source": [
    "# data"
   ]
  },
  {
   "cell_type": "code",
   "execution_count": 6,
   "id": "classical-founder",
   "metadata": {},
   "outputs": [],
   "source": [
    "X = pd.DataFrame(data.data, columns = data.feature_names)"
   ]
  },
  {
   "cell_type": "code",
   "execution_count": 7,
   "id": "premier-dollar",
   "metadata": {},
   "outputs": [
    {
     "data": {
      "text/plain": [
       "(569, 30)"
      ]
     },
     "execution_count": 7,
     "metadata": {},
     "output_type": "execute_result"
    }
   ],
   "source": [
    "X.shape"
   ]
  },
  {
   "cell_type": "code",
   "execution_count": 9,
   "id": "respiratory-jersey",
   "metadata": {},
   "outputs": [
    {
     "data": {
      "text/plain": [
       "Index(['mean radius', 'mean texture', 'mean perimeter', 'mean area',\n",
       "       'mean smoothness', 'mean compactness', 'mean concavity',\n",
       "       'mean concave points', 'mean symmetry', 'mean fractal dimension',\n",
       "       'radius error', 'texture error', 'perimeter error', 'area error',\n",
       "       'smoothness error', 'compactness error', 'concavity error',\n",
       "       'concave points error', 'symmetry error', 'fractal dimension error',\n",
       "       'worst radius', 'worst texture', 'worst perimeter', 'worst area',\n",
       "       'worst smoothness', 'worst compactness', 'worst concavity',\n",
       "       'worst concave points', 'worst symmetry', 'worst fractal dimension'],\n",
       "      dtype='object')"
      ]
     },
     "execution_count": 9,
     "metadata": {},
     "output_type": "execute_result"
    }
   ],
   "source": [
    "X.columns"
   ]
  },
  {
   "cell_type": "code",
   "execution_count": 11,
   "id": "first-development",
   "metadata": {},
   "outputs": [],
   "source": [
    "y = pd.Series(data.target, name = 'Target')"
   ]
  },
  {
   "cell_type": "code",
   "execution_count": 12,
   "id": "large-craft",
   "metadata": {},
   "outputs": [
    {
     "data": {
      "text/plain": [
       "(569,)"
      ]
     },
     "execution_count": 12,
     "metadata": {},
     "output_type": "execute_result"
    }
   ],
   "source": [
    "y.shape"
   ]
  },
  {
   "cell_type": "code",
   "execution_count": 13,
   "id": "three-victory",
   "metadata": {},
   "outputs": [
    {
     "data": {
      "text/plain": [
       "0    0\n",
       "1    0\n",
       "2    0\n",
       "3    0\n",
       "4    0\n",
       "Name: Target, dtype: int32"
      ]
     },
     "execution_count": 13,
     "metadata": {},
     "output_type": "execute_result"
    }
   ],
   "source": [
    "y.head()"
   ]
  },
  {
   "cell_type": "code",
   "execution_count": 14,
   "id": "designed-elite",
   "metadata": {},
   "outputs": [
    {
     "data": {
      "text/plain": [
       "mean radius                0\n",
       "mean texture               0\n",
       "mean perimeter             0\n",
       "mean area                  0\n",
       "mean smoothness            0\n",
       "mean compactness           0\n",
       "mean concavity             0\n",
       "mean concave points        0\n",
       "mean symmetry              0\n",
       "mean fractal dimension     0\n",
       "radius error               0\n",
       "texture error              0\n",
       "perimeter error            0\n",
       "area error                 0\n",
       "smoothness error           0\n",
       "compactness error          0\n",
       "concavity error            0\n",
       "concave points error       0\n",
       "symmetry error             0\n",
       "fractal dimension error    0\n",
       "worst radius               0\n",
       "worst texture              0\n",
       "worst perimeter            0\n",
       "worst area                 0\n",
       "worst smoothness           0\n",
       "worst compactness          0\n",
       "worst concavity            0\n",
       "worst concave points       0\n",
       "worst symmetry             0\n",
       "worst fractal dimension    0\n",
       "dtype: int64"
      ]
     },
     "execution_count": 14,
     "metadata": {},
     "output_type": "execute_result"
    }
   ],
   "source": [
    "X.isna().sum()"
   ]
  },
  {
   "cell_type": "code",
   "execution_count": 15,
   "id": "mechanical-thumb",
   "metadata": {},
   "outputs": [
    {
     "data": {
      "text/plain": [
       "mean radius                float64\n",
       "mean texture               float64\n",
       "mean perimeter             float64\n",
       "mean area                  float64\n",
       "mean smoothness            float64\n",
       "mean compactness           float64\n",
       "mean concavity             float64\n",
       "mean concave points        float64\n",
       "mean symmetry              float64\n",
       "mean fractal dimension     float64\n",
       "radius error               float64\n",
       "texture error              float64\n",
       "perimeter error            float64\n",
       "area error                 float64\n",
       "smoothness error           float64\n",
       "compactness error          float64\n",
       "concavity error            float64\n",
       "concave points error       float64\n",
       "symmetry error             float64\n",
       "fractal dimension error    float64\n",
       "worst radius               float64\n",
       "worst texture              float64\n",
       "worst perimeter            float64\n",
       "worst area                 float64\n",
       "worst smoothness           float64\n",
       "worst compactness          float64\n",
       "worst concavity            float64\n",
       "worst concave points       float64\n",
       "worst symmetry             float64\n",
       "worst fractal dimension    float64\n",
       "dtype: object"
      ]
     },
     "execution_count": 15,
     "metadata": {},
     "output_type": "execute_result"
    }
   ],
   "source": [
    "X.dtypes"
   ]
  },
  {
   "cell_type": "code",
   "execution_count": 16,
   "id": "cultural-bulletin",
   "metadata": {},
   "outputs": [],
   "source": [
    "from sklearn.neighbors import KNeighborsClassifier\n",
    "model = KNeighborsClassifier()"
   ]
  },
  {
   "cell_type": "code",
   "execution_count": 17,
   "id": "american-moisture",
   "metadata": {},
   "outputs": [],
   "source": [
    "from sklearn.model_selection import train_test_split\n",
    "X_train, X_test, y_train, y_test = train_test_split(X, y, test_size=0.1, random_state=100)"
   ]
  },
  {
   "cell_type": "code",
   "execution_count": 18,
   "id": "industrial-barcelona",
   "metadata": {},
   "outputs": [
    {
     "data": {
      "text/plain": [
       "KNeighborsClassifier(algorithm='auto', leaf_size=30, metric='minkowski',\n",
       "                     metric_params=None, n_jobs=None, n_neighbors=5, p=2,\n",
       "                     weights='uniform')"
      ]
     },
     "execution_count": 18,
     "metadata": {},
     "output_type": "execute_result"
    }
   ],
   "source": [
    "model.fit(X_train, y_train)"
   ]
  },
  {
   "cell_type": "code",
   "execution_count": 19,
   "id": "quick-temperature",
   "metadata": {},
   "outputs": [
    {
     "data": {
      "text/plain": [
       "0.9453125"
      ]
     },
     "execution_count": 19,
     "metadata": {},
     "output_type": "execute_result"
    }
   ],
   "source": [
    "model.score(X_train, y_train)"
   ]
  },
  {
   "cell_type": "code",
   "execution_count": 20,
   "id": "reliable-concrete",
   "metadata": {},
   "outputs": [],
   "source": [
    "y_pred = model.predict(X_test)"
   ]
  },
  {
   "cell_type": "code",
   "execution_count": 21,
   "id": "announced-monte",
   "metadata": {},
   "outputs": [
    {
     "data": {
      "text/plain": [
       "0.9298245614035088"
      ]
     },
     "execution_count": 21,
     "metadata": {},
     "output_type": "execute_result"
    }
   ],
   "source": [
    "from sklearn.metrics import accuracy_score\n",
    "accuracy_score(y_test, y_pred)"
   ]
  },
  {
   "cell_type": "code",
   "execution_count": 22,
   "id": "worth-alexander",
   "metadata": {},
   "outputs": [
    {
     "data": {
      "text/plain": [
       "mean radius                 13.080000\n",
       "mean texture                15.710000\n",
       "mean perimeter              85.630000\n",
       "mean area                  520.000000\n",
       "mean smoothness              0.107500\n",
       "mean compactness             0.127000\n",
       "mean concavity               0.045680\n",
       "mean concave points          0.031100\n",
       "mean symmetry                0.196700\n",
       "mean fractal dimension       0.068110\n",
       "radius error                 0.185200\n",
       "texture error                0.747700\n",
       "perimeter error              1.383000\n",
       "area error                  14.670000\n",
       "smoothness error             0.004097\n",
       "compactness error            0.018980\n",
       "concavity error              0.016980\n",
       "concave points error         0.006490\n",
       "symmetry error               0.016780\n",
       "fractal dimension error      0.002425\n",
       "worst radius                14.500000\n",
       "worst texture               20.490000\n",
       "worst perimeter             96.090000\n",
       "worst area                 630.500000\n",
       "worst smoothness             0.131200\n",
       "worst compactness            0.277600\n",
       "worst concavity              0.189000\n",
       "worst concave points         0.072830\n",
       "worst symmetry               0.318400\n",
       "worst fractal dimension      0.081830\n",
       "Name: 20, dtype: float64"
      ]
     },
     "execution_count": 22,
     "metadata": {},
     "output_type": "execute_result"
    }
   ],
   "source": [
    "X_train.loc[20]"
   ]
  },
  {
   "cell_type": "code",
   "execution_count": 23,
   "id": "boxed-orbit",
   "metadata": {},
   "outputs": [],
   "source": [
    "from sklearn.preprocessing import MinMaxScaler\n",
    "scaler = MinMaxScaler()"
   ]
  },
  {
   "cell_type": "code",
   "execution_count": 24,
   "id": "artificial-render",
   "metadata": {},
   "outputs": [],
   "source": [
    "X_train = scaler.fit_transform(X_train)"
   ]
  },
  {
   "cell_type": "code",
   "execution_count": 25,
   "id": "negative-model",
   "metadata": {},
   "outputs": [
    {
     "data": {
      "text/plain": [
       "array([0.62563302, 0.56920415, 0.62131159, 0.46256628, 0.41906653,\n",
       "       0.50517088, 0.38448922, 0.62872763, 0.41161616, 0.21566976,\n",
       "       0.31309071, 0.3385343 , 0.29971804, 0.18079634, 0.2286433 ,\n",
       "       0.33412443, 0.14909091, 0.48039401, 0.54533577, 0.11715932,\n",
       "       0.57844184, 0.5754386 , 0.54579411, 0.36516909, 0.38463628,\n",
       "       0.30494513, 0.29576677, 0.7413021 , 0.33629016, 0.13957759])"
      ]
     },
     "execution_count": 25,
     "metadata": {},
     "output_type": "execute_result"
    }
   ],
   "source": [
    "X_train[20]"
   ]
  },
  {
   "cell_type": "code",
   "execution_count": 26,
   "id": "contrary-domain",
   "metadata": {},
   "outputs": [],
   "source": [
    "X_test = scaler.fit_transform(X_test)"
   ]
  },
  {
   "cell_type": "code",
   "execution_count": 28,
   "id": "stainless-stocks",
   "metadata": {},
   "outputs": [],
   "source": [
    "knn = KNeighborsClassifier()"
   ]
  },
  {
   "cell_type": "code",
   "execution_count": 29,
   "id": "strange-vampire",
   "metadata": {},
   "outputs": [
    {
     "data": {
      "text/plain": [
       "KNeighborsClassifier(algorithm='auto', leaf_size=30, metric='minkowski',\n",
       "                     metric_params=None, n_jobs=None, n_neighbors=5, p=2,\n",
       "                     weights='uniform')"
      ]
     },
     "execution_count": 29,
     "metadata": {},
     "output_type": "execute_result"
    }
   ],
   "source": [
    "knn.fit(X_train, y_train)"
   ]
  },
  {
   "cell_type": "code",
   "execution_count": 30,
   "id": "catholic-blast",
   "metadata": {},
   "outputs": [
    {
     "data": {
      "text/plain": [
       "0.978515625"
      ]
     },
     "execution_count": 30,
     "metadata": {},
     "output_type": "execute_result"
    }
   ],
   "source": [
    "knn.score(X_train, y_train)"
   ]
  },
  {
   "cell_type": "code",
   "execution_count": 31,
   "id": "worldwide-climate",
   "metadata": {},
   "outputs": [],
   "source": [
    "y_norm_pred = knn.predict(X_test)"
   ]
  },
  {
   "cell_type": "code",
   "execution_count": 32,
   "id": "retired-spanish",
   "metadata": {},
   "outputs": [
    {
     "data": {
      "text/plain": [
       "0.9298245614035088"
      ]
     },
     "execution_count": 32,
     "metadata": {},
     "output_type": "execute_result"
    }
   ],
   "source": [
    "accuracy_score(y_test, y_norm_pred)"
   ]
  },
  {
   "cell_type": "code",
   "execution_count": 33,
   "id": "homeless-script",
   "metadata": {},
   "outputs": [
    {
     "data": {
      "text/plain": [
       "array([[0.67789598, 0.49692443, 0.70880755, ..., 0.67491409, 0.37959299,\n",
       "        0.74774329],\n",
       "       [0.41415485, 0.16520211, 0.38183123, ..., 0.37353952, 0.32786885,\n",
       "        0.01718808],\n",
       "       [0.84411939, 0.43717047, 0.77750436, ..., 0.48969072, 0.32589033,\n",
       "        0.        ],\n",
       "       ...,\n",
       "       [0.21468676, 0.37873462, 0.20403978, ..., 0.4185567 , 0.25551159,\n",
       "        0.39124521],\n",
       "       [0.33289007, 0.45782074, 0.32400287, ..., 0.46632302, 0.26653477,\n",
       "        0.81080747],\n",
       "       [0.36613475, 0.27943761, 0.33394853, ..., 0.24010309, 0.40163934,\n",
       "        0.21862248]])"
      ]
     },
     "execution_count": 33,
     "metadata": {},
     "output_type": "execute_result"
    }
   ],
   "source": [
    "X_test"
   ]
  },
  {
   "cell_type": "code",
   "execution_count": null,
   "id": "genuine-clone",
   "metadata": {},
   "outputs": [],
   "source": []
  }
 ],
 "metadata": {
  "kernelspec": {
   "display_name": "Python 3",
   "language": "python",
   "name": "python3"
  },
  "language_info": {
   "codemirror_mode": {
    "name": "ipython",
    "version": 3
   },
   "file_extension": ".py",
   "mimetype": "text/x-python",
   "name": "python",
   "nbconvert_exporter": "python",
   "pygments_lexer": "ipython3",
   "version": "3.7.0"
  }
 },
 "nbformat": 4,
 "nbformat_minor": 5
}
