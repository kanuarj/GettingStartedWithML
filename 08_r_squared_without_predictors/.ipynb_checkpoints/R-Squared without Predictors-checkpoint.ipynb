{
 "cells": [
  {
   "cell_type": "code",
   "execution_count": 8,
   "metadata": {},
   "outputs": [],
   "source": [
    "import numpy as np\n",
    "X_data = np.array([160,171,182,180,154], ndmin=2).reshape((5,1))\n",
    "y_data = np.array([72,76,77,83,76])"
   ]
  },
  {
   "cell_type": "code",
   "execution_count": 9,
   "metadata": {},
   "outputs": [],
   "source": [
    "X_mean = np.mean(X_data)\n",
    "y_mean = np.mean(y_data)"
   ]
  },
  {
   "cell_type": "code",
   "execution_count": 10,
   "metadata": {},
   "outputs": [],
   "source": [
    "n = len(X_data)"
   ]
  },
  {
   "cell_type": "code",
   "execution_count": 11,
   "metadata": {},
   "outputs": [
    {
     "data": {
      "text/plain": [
       "array([0.41125322])"
      ]
     },
     "execution_count": 11,
     "metadata": {},
     "output_type": "execute_result"
    }
   ],
   "source": [
    "class LinearRegression:\n",
    "    r = 0\n",
    "    def fit(self, X, y):\n",
    "        upward_function = 0\n",
    "        for i in range(n):\n",
    "            upward_function += (X_data[i]-X_mean)*(y_data[i]-y_mean)\n",
    "        covariance = upward_function/(n-1)\n",
    "        self.r = covariance / (np.std(X_data, ddof=1)*np.std(y_data, ddof=1))\n",
    "        return self.r\n",
    "    \n",
    "    def score(self):\n",
    "        r_squared = self.r*self.r\n",
    "        return r_squared\n",
    "    \n",
    "model = LinearRegression()\n",
    "model.fit(X_data, y_data)\n",
    "model.score()"
   ]
  },
  {
   "cell_type": "code",
   "execution_count": 12,
   "metadata": {},
   "outputs": [
    {
     "data": {
      "text/plain": [
       "0.4112532208549824"
      ]
     },
     "execution_count": 12,
     "metadata": {},
     "output_type": "execute_result"
    }
   ],
   "source": [
    "from sklearn.linear_model import LinearRegression\n",
    "lr = LinearRegression()\n",
    "lr.fit(X_data, y_data)\n",
    "lr.score(X_data, y_data)"
   ]
  },
  {
   "cell_type": "code",
   "execution_count": null,
   "metadata": {},
   "outputs": [],
   "source": []
  }
 ],
 "metadata": {
  "kernelspec": {
   "display_name": "Python 3",
   "language": "python",
   "name": "python3"
  },
  "language_info": {
   "codemirror_mode": {
    "name": "ipython",
    "version": 3
   },
   "file_extension": ".py",
   "mimetype": "text/x-python",
   "name": "python",
   "nbconvert_exporter": "python",
   "pygments_lexer": "ipython3",
   "version": "3.7.2"
  }
 },
 "nbformat": 4,
 "nbformat_minor": 2
}
