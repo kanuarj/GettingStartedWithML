{
 "cells": [
  {
   "cell_type": "code",
   "execution_count": 1,
   "metadata": {},
   "outputs": [],
   "source": [
    "import numpy as np\n",
    "X_data = np.array([160, 171, 182, 180, 154], ndmin=2)\n",
    "X_data = X_data.reshape((5,1))\n",
    "y_data = np.array([72,76,77,83,76])\n",
    "X_mean = np.mean(X_data)\n",
    "y_mean = np.mean(y_data)\n",
    "n = len(X_data)"
   ]
  },
  {
   "cell_type": "code",
   "execution_count": 2,
   "metadata": {},
   "outputs": [
    {
     "name": "stdout",
     "output_type": "stream",
     "text": [
      "12.239281024635394 3.96232255123179\n"
     ]
    }
   ],
   "source": [
    "x_std = np.std(X_data, ddof=1)\n",
    "y_std = np.std(y_data, ddof=1)\n",
    "print(x_std, y_std)"
   ]
  },
  {
   "cell_type": "code",
   "execution_count": 5,
   "metadata": {},
   "outputs": [
    {
     "name": "stdout",
     "output_type": "stream",
     "text": [
      "(array([0.64129028]), array([41.63084112]), array([0.20761015]))\n",
      "[78.17022697]\n"
     ]
    }
   ],
   "source": [
    "class LinearRegression:\n",
    "    b0=0\n",
    "    b1=0\n",
    "    def LinearRegression_fit(self, X, y):\n",
    "        upward = 0\n",
    "        x_downward = 0\n",
    "        y_downward = 0\n",
    "        for i in range(n):\n",
    "            upward += (X_data[i]-X_mean)*(y_data[i]-y_mean)\n",
    "            x_downward += (X_data[i]-X_mean)**2\n",
    "            y_downward += (y_data[i]-y_mean)**2\n",
    "        r = upward / np.sqrt((x_downward*y_downward))\n",
    "        self.b1 = r*(y_std/x_std)\n",
    "        self.b0 = y_mean - (self.b1*X_mean)\n",
    "        return r, self.b0, self.b1\n",
    "    \n",
    "    def LinearRegression_predict(self, Xi):\n",
    "        y_pred = self.b0 + (self.b1*Xi)\n",
    "        return y_pred\n",
    "    \n",
    "model = LinearRegression()\n",
    "print(model.LinearRegression_fit(X_data, y_data))\n",
    "print(model.LinearRegression_predict(176))"
   ]
  },
  {
   "cell_type": "code",
   "execution_count": 6,
   "metadata": {},
   "outputs": [
    {
     "name": "stdout",
     "output_type": "stream",
     "text": [
      "Requirement already satisfied: scikit-learn in c:\\users\\raunak\\appdata\\local\\programs\\python\\python37\\lib\\site-packages (0.21.3)\n",
      "Requirement already satisfied: numpy>=1.11.0 in c:\\users\\raunak\\appdata\\local\\programs\\python\\python37\\lib\\site-packages (from scikit-learn) (1.16.5)\n",
      "Requirement already satisfied: scipy>=0.17.0 in c:\\users\\raunak\\appdata\\local\\programs\\python\\python37\\lib\\site-packages (from scikit-learn) (1.3.1)\n",
      "Requirement already satisfied: joblib>=0.11 in c:\\users\\raunak\\appdata\\local\\programs\\python\\python37\\lib\\site-packages (from scikit-learn) (0.14.0)\n"
     ]
    },
    {
     "name": "stderr",
     "output_type": "stream",
     "text": [
      "You are using pip version 18.1, however version 19.3.1 is available.\n",
      "You should consider upgrading via the 'python -m pip install --upgrade pip' command.\n"
     ]
    }
   ],
   "source": [
    "!pip install scikit-learn"
   ]
  },
  {
   "cell_type": "code",
   "execution_count": 7,
   "metadata": {},
   "outputs": [
    {
     "data": {
      "text/plain": [
       "array([78.17022697])"
      ]
     },
     "execution_count": 7,
     "metadata": {},
     "output_type": "execute_result"
    }
   ],
   "source": [
    "from sklearn.linear_model import LinearRegression\n",
    "lr = LinearRegression()\n",
    "lr.fit(X_data, y_data)\n",
    "lr.predict([[176]])"
   ]
  },
  {
   "cell_type": "code",
   "execution_count": 9,
   "metadata": {},
   "outputs": [
    {
     "name": "stdout",
     "output_type": "stream",
     "text": [
      "Requirement already up-to-date: statsmodels in c:\\users\\raunak\\appdata\\local\\programs\\python\\python37\\lib\\site-packages (0.10.2)\n",
      "Requirement already satisfied, skipping upgrade: numpy>=1.11 in c:\\users\\raunak\\appdata\\local\\programs\\python\\python37\\lib\\site-packages (from statsmodels) (1.16.5)\n",
      "Requirement already satisfied, skipping upgrade: patsy>=0.4.0 in c:\\users\\raunak\\appdata\\local\\programs\\python\\python37\\lib\\site-packages (from statsmodels) (0.5.1)\n",
      "Requirement already satisfied, skipping upgrade: scipy>=0.18 in c:\\users\\raunak\\appdata\\local\\programs\\python\\python37\\lib\\site-packages (from statsmodels) (1.3.1)\n",
      "Requirement already satisfied, skipping upgrade: pandas>=0.19 in c:\\users\\raunak\\appdata\\local\\programs\\python\\python37\\lib\\site-packages (from statsmodels) (0.25.2)\n",
      "Requirement already satisfied, skipping upgrade: six in c:\\users\\raunak\\appdata\\local\\programs\\python\\python37\\lib\\site-packages (from patsy>=0.4.0->statsmodels) (1.12.0)\n",
      "Requirement already satisfied, skipping upgrade: python-dateutil>=2.6.1 in c:\\users\\raunak\\appdata\\local\\programs\\python\\python37\\lib\\site-packages (from pandas>=0.19->statsmodels) (2.8.0)\n",
      "Requirement already satisfied, skipping upgrade: pytz>=2017.2 in c:\\users\\raunak\\appdata\\local\\programs\\python\\python37\\lib\\site-packages (from pandas>=0.19->statsmodels) (2019.3)\n"
     ]
    },
    {
     "name": "stderr",
     "output_type": "stream",
     "text": [
      "You are using pip version 18.1, however version 19.3.1 is available.\n",
      "You should consider upgrading via the 'python -m pip install --upgrade pip' command.\n"
     ]
    }
   ],
   "source": [
    "!pip install -U statsmodels"
   ]
  },
  {
   "cell_type": "code",
   "execution_count": 10,
   "metadata": {},
   "outputs": [
    {
     "name": "stdout",
     "output_type": "stream",
     "text": [
      "[79.61232918]\n"
     ]
    },
    {
     "name": "stderr",
     "output_type": "stream",
     "text": [
      "c:\\users\\raunak\\appdata\\local\\programs\\python\\python37\\lib\\site-packages\\statsmodels\\stats\\stattools.py:71: ValueWarning: omni_normtest is not valid with less than 8 observations; 5 samples were given.\n",
      "  \"samples were given.\" % int(n), ValueWarning)\n"
     ]
    },
    {
     "data": {
      "text/html": [
       "<table class=\"simpletable\">\n",
       "<caption>OLS Regression Results</caption>\n",
       "<tr>\n",
       "  <th>Dep. Variable:</th>            <td>y</td>        <th>  R-squared (uncentered):</th>      <td>   0.998</td>\n",
       "</tr>\n",
       "<tr>\n",
       "  <th>Model:</th>                   <td>OLS</td>       <th>  Adj. R-squared (uncentered):</th> <td>   0.997</td>\n",
       "</tr>\n",
       "<tr>\n",
       "  <th>Method:</th>             <td>Least Squares</td>  <th>  F-statistic:       </th>          <td>   1615.</td>\n",
       "</tr>\n",
       "<tr>\n",
       "  <th>Date:</th>             <td>Fri, 03 Jan 2020</td> <th>  Prob (F-statistic):</th>          <td>2.29e-06</td>\n",
       "</tr>\n",
       "<tr>\n",
       "  <th>Time:</th>                 <td>14:51:43</td>     <th>  Log-Likelihood:    </th>          <td> -13.798</td>\n",
       "</tr>\n",
       "<tr>\n",
       "  <th>No. Observations:</th>      <td>     5</td>      <th>  AIC:               </th>          <td>   29.60</td>\n",
       "</tr>\n",
       "<tr>\n",
       "  <th>Df Residuals:</th>          <td>     4</td>      <th>  BIC:               </th>          <td>   29.20</td>\n",
       "</tr>\n",
       "<tr>\n",
       "  <th>Df Model:</th>              <td>     1</td>      <th>                     </th>              <td> </td>   \n",
       "</tr>\n",
       "<tr>\n",
       "  <th>Covariance Type:</th>      <td>nonrobust</td>    <th>                     </th>              <td> </td>   \n",
       "</tr>\n",
       "</table>\n",
       "<table class=\"simpletable\">\n",
       "<tr>\n",
       "   <td></td>     <th>coef</th>     <th>std err</th>      <th>t</th>      <th>P>|t|</th>  <th>[0.025</th>    <th>0.975]</th>  \n",
       "</tr>\n",
       "<tr>\n",
       "  <th>x1</th> <td>    0.4523</td> <td>    0.011</td> <td>   40.189</td> <td> 0.000</td> <td>    0.421</td> <td>    0.484</td>\n",
       "</tr>\n",
       "</table>\n",
       "<table class=\"simpletable\">\n",
       "<tr>\n",
       "  <th>Omnibus:</th>       <td>   nan</td> <th>  Durbin-Watson:     </th> <td>   1.193</td>\n",
       "</tr>\n",
       "<tr>\n",
       "  <th>Prob(Omnibus):</th> <td>   nan</td> <th>  Jarque-Bera (JB):  </th> <td>   0.172</td>\n",
       "</tr>\n",
       "<tr>\n",
       "  <th>Skew:</th>          <td> 0.242</td> <th>  Prob(JB):          </th> <td>   0.918</td>\n",
       "</tr>\n",
       "<tr>\n",
       "  <th>Kurtosis:</th>      <td> 2.232</td> <th>  Cond. No.          </th> <td>    1.00</td>\n",
       "</tr>\n",
       "</table><br/><br/>Warnings:<br/>[1] Standard Errors assume that the covariance matrix of the errors is correctly specified."
      ],
      "text/plain": [
       "<class 'statsmodels.iolib.summary.Summary'>\n",
       "\"\"\"\n",
       "                                 OLS Regression Results                                \n",
       "=======================================================================================\n",
       "Dep. Variable:                      y   R-squared (uncentered):                   0.998\n",
       "Model:                            OLS   Adj. R-squared (uncentered):              0.997\n",
       "Method:                 Least Squares   F-statistic:                              1615.\n",
       "Date:                Fri, 03 Jan 2020   Prob (F-statistic):                    2.29e-06\n",
       "Time:                        14:51:43   Log-Likelihood:                         -13.798\n",
       "No. Observations:                   5   AIC:                                      29.60\n",
       "Df Residuals:                       4   BIC:                                      29.20\n",
       "Df Model:                           1                                                  \n",
       "Covariance Type:            nonrobust                                                  \n",
       "==============================================================================\n",
       "                 coef    std err          t      P>|t|      [0.025      0.975]\n",
       "------------------------------------------------------------------------------\n",
       "x1             0.4523      0.011     40.189      0.000       0.421       0.484\n",
       "==============================================================================\n",
       "Omnibus:                          nan   Durbin-Watson:                   1.193\n",
       "Prob(Omnibus):                    nan   Jarque-Bera (JB):                0.172\n",
       "Skew:                           0.242   Prob(JB):                        0.918\n",
       "Kurtosis:                       2.232   Cond. No.                         1.00\n",
       "==============================================================================\n",
       "\n",
       "Warnings:\n",
       "[1] Standard Errors assume that the covariance matrix of the errors is correctly specified.\n",
       "\"\"\""
      ]
     },
     "execution_count": 10,
     "metadata": {},
     "output_type": "execute_result"
    }
   ],
   "source": [
    "import statsmodels.api as sm\n",
    "model = sm.OLS(y_data, X_data).fit()\n",
    "print(model.predict(176))\n",
    "model.summary()"
   ]
  },
  {
   "cell_type": "code",
   "execution_count": null,
   "metadata": {},
   "outputs": [],
   "source": []
  }
 ],
 "metadata": {
  "kernelspec": {
   "display_name": "Python 3",
   "language": "python",
   "name": "python3"
  },
  "language_info": {
   "codemirror_mode": {
    "name": "ipython",
    "version": 3
   },
   "file_extension": ".py",
   "mimetype": "text/x-python",
   "name": "python",
   "nbconvert_exporter": "python",
   "pygments_lexer": "ipython3",
   "version": "3.7.2"
  }
 },
 "nbformat": 4,
 "nbformat_minor": 2
}
